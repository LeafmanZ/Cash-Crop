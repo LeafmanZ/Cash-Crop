{
 "cells": [
  {
   "cell_type": "code",
   "execution_count": 1,
   "metadata": {},
   "outputs": [],
   "source": [
    "import os, shutil"
   ]
  },
  {
   "cell_type": "code",
   "execution_count": 2,
   "metadata": {},
   "outputs": [],
   "source": [
    "original_dataset_dir = '/home/leafmonk/Documents/Cash Crop POC/images'"
   ]
  },
  {
   "cell_type": "code",
   "execution_count": 3,
   "metadata": {},
   "outputs": [],
   "source": [
    "base_dir = '/home/leafmonk/Documents/Cash Crop POC/POC'\n",
    "os.mkdir(base_dir)"
   ]
  },
  {
   "cell_type": "code",
   "execution_count": 4,
   "metadata": {},
   "outputs": [],
   "source": [
    "train_dir = os.path.join(base_dir, 'train')\n",
    "os.mkdir(train_dir)\n",
    "\n",
    "validation_dir = os.path.join(base_dir, 'validation')\n",
    "os.mkdir(validation_dir)\n",
    "\n",
    "test_dir = os.path.join(base_dir, 'test')\n",
    "os.mkdir(test_dir)"
   ]
  },
  {
   "cell_type": "code",
   "execution_count": 5,
   "metadata": {},
   "outputs": [],
   "source": [
    "train_hydrangea_dir = os.path.join(train_dir, 'hydrangea')\n",
    "os.mkdir(train_hydrangea_dir)"
   ]
  },
  {
   "cell_type": "code",
   "execution_count": 6,
   "metadata": {},
   "outputs": [],
   "source": [
    "train_elephant_dir = os.path.join(train_dir, 'elephant')\n",
    "os.mkdir(train_elephant_dir)"
   ]
  },
  {
   "cell_type": "code",
   "execution_count": 7,
   "metadata": {},
   "outputs": [],
   "source": [
    "validation_hydrangea_dir = os.path.join(validation_dir, 'hydrangea')\n",
    "os.mkdir(validation_hydrangea_dir)"
   ]
  },
  {
   "cell_type": "code",
   "execution_count": 8,
   "metadata": {},
   "outputs": [],
   "source": [
    "validation_elephant_dir = os.path.join(validation_dir, 'elephant')\n",
    "os.mkdir(validation_elephant_dir)"
   ]
  },
  {
   "cell_type": "code",
   "execution_count": 9,
   "metadata": {},
   "outputs": [],
   "source": [
    "test_hydrangea_dir = os.path.join(test_dir, 'hydrangea')\n",
    "os.mkdir(test_hydrangea_dir)"
   ]
  },
  {
   "cell_type": "code",
   "execution_count": 10,
   "metadata": {},
   "outputs": [],
   "source": [
    "test_elephant_dir = os.path.join(test_dir, 'elephant')\n",
    "os.mkdir(test_elephant_dir)"
   ]
  },
  {
   "cell_type": "code",
   "execution_count": 11,
   "metadata": {},
   "outputs": [
    {
     "name": "stdout",
     "output_type": "stream",
     "text": [
      "2246\n"
     ]
    }
   ],
   "source": [
    "path, dirs, files = next(os.walk(\"/home/leafmonk/Documents/Cash Crop POC/images/Hydrangea\"))\n",
    "file_count = len(files)\n",
    "print(file_count)"
   ]
  },
  {
   "cell_type": "code",
   "execution_count": 12,
   "metadata": {},
   "outputs": [],
   "source": [
    "inames = ['Hydrangeaimage-{}.jpg'.format(i) for i in range(int(.6 * file_count))]\n",
    "fnames = ['hydrangea.{}.jpg'.format(i) for i in range(int(.6 * file_count))]\n",
    "\n",
    "for i in range(len(fnames)):\n",
    "    src = os.path.join(original_dataset_dir, 'Hydrangea',inames[i])\n",
    "    dst = os.path.join(train_hydrangea_dir, fnames[i])\n",
    "    shutil.copyfile(src, dst)"
   ]
  },
  {
   "cell_type": "code",
   "execution_count": 13,
   "metadata": {},
   "outputs": [],
   "source": [
    "inames = ['Hydrangeaimage-{}.jpg'.format(i) for i in range(int(.6 * file_count),int(.8 * file_count))]\n",
    "fnames = ['hydrangea.{}.jpg'.format(i) for i in range(int(.6 * file_count),int(.8 * file_count))]\n",
    "\n",
    "for i in range(len(fnames)):\n",
    "    src = os.path.join(original_dataset_dir, 'Hydrangea',inames[i])\n",
    "    dst = os.path.join(validation_hydrangea_dir, fnames[i])\n",
    "    shutil.copyfile(src, dst)"
   ]
  },
  {
   "cell_type": "code",
   "execution_count": 14,
   "metadata": {},
   "outputs": [],
   "source": [
    "inames = ['Hydrangeaimage-{}.jpg'.format(i) for i in range(int(.8 * file_count),file_count)]\n",
    "fnames = ['hydrangea.{}.jpg'.format(i) for i in range(int(.8 * file_count),file_count)]\n",
    "\n",
    "for i in range(len(fnames)):\n",
    "    src = os.path.join(original_dataset_dir, 'Hydrangea',inames[i])\n",
    "    dst = os.path.join(test_hydrangea_dir, fnames[i])\n",
    "    shutil.copyfile(src, dst)"
   ]
  },
  {
   "cell_type": "code",
   "execution_count": 15,
   "metadata": {},
   "outputs": [
    {
     "name": "stdout",
     "output_type": "stream",
     "text": [
      "1664\n"
     ]
    }
   ],
   "source": [
    "path, dirs, files = next(os.walk(\"/home/leafmonk/Documents/Cash Crop POC/images/Elephant Ear\"))\n",
    "file_count = len(files)\n",
    "print(file_count)"
   ]
  },
  {
   "cell_type": "code",
   "execution_count": 16,
   "metadata": {},
   "outputs": [],
   "source": [
    "inames = ['Elephant Earimage-{}.jpg'.format(i) for i in range(int(.6 * file_count))]\n",
    "fnames = ['elephant.{}.jpg'.format(i) for i in range(int(.6 * file_count))]\n",
    "\n",
    "for i in range(len(fnames)):\n",
    "    src = os.path.join(original_dataset_dir, 'Elephant Ear',inames[i])\n",
    "    dst = os.path.join(train_elephant_dir, fnames[i])\n",
    "    shutil.copyfile(src, dst)"
   ]
  },
  {
   "cell_type": "code",
   "execution_count": 17,
   "metadata": {},
   "outputs": [],
   "source": [
    "inames = ['Elephant Earimage-{}.jpg'.format(i) for i in range(int(.6 * file_count),int(.8 * file_count))]\n",
    "fnames = ['elephant.{}.jpg'.format(i) for i in range(int(.6 * file_count),int(.8 * file_count))]\n",
    "\n",
    "for i in range(len(fnames)):\n",
    "    src = os.path.join(original_dataset_dir, 'Elephant Ear',inames[i])\n",
    "    dst = os.path.join(validation_elephant_dir, fnames[i])\n",
    "    shutil.copyfile(src, dst)"
   ]
  },
  {
   "cell_type": "code",
   "execution_count": 18,
   "metadata": {},
   "outputs": [],
   "source": [
    "inames = ['Elephant Earimage-{}.jpg'.format(i) for i in range(int(.8 * file_count),file_count)]\n",
    "fnames = ['elephant.{}.jpg'.format(i) for i in range(int(.8 * file_count),file_count)]\n",
    "\n",
    "for i in range(len(fnames)):\n",
    "    src = os.path.join(original_dataset_dir, 'Elephant Ear',inames[i])\n",
    "    dst = os.path.join(test_elephant_dir, fnames[i])\n",
    "    shutil.copyfile(src, dst)"
   ]
  },
  {
   "cell_type": "code",
   "execution_count": 19,
   "metadata": {},
   "outputs": [
    {
     "name": "stdout",
     "output_type": "stream",
     "text": [
      "total training hydrangea images: 1347\n",
      "total validation hydrangea images: 449\n",
      "total test hydrangea images: 450\n",
      "total training elephant images: 998\n",
      "total validation elephant images: 333\n",
      "total test elephant images: 333\n"
     ]
    }
   ],
   "source": [
    "print('total training hydrangea images:', len(os.listdir(train_hydrangea_dir)))\n",
    "print('total validation hydrangea images:', len(os.listdir(validation_hydrangea_dir)))\n",
    "print('total test hydrangea images:', len(os.listdir(test_hydrangea_dir)))\n",
    "print('total training elephant images:', len(os.listdir(train_elephant_dir)))\n",
    "print('total validation elephant images:', len(os.listdir(validation_elephant_dir)))\n",
    "print('total test elephant images:', len(os.listdir(test_elephant_dir)))"
   ]
  },
  {
   "cell_type": "code",
   "execution_count": 20,
   "metadata": {},
   "outputs": [],
   "source": [
    "import tensorflow as tf\n",
    "from tensorflow.keras import optimizers\n",
    "from tensorflow.keras.preprocessing import image\n",
    "from tensorflow.keras.preprocessing.image import ImageDataGenerator\n",
    "import matplotlib.pyplot as plt"
   ]
  },
  {
   "cell_type": "code",
   "execution_count": 21,
   "metadata": {},
   "outputs": [],
   "source": [
    "model = tf.keras.models.Sequential([\n",
    "        tf.keras.layers.Conv2D(32, (3, 3), activation='relu',input_shape=(150, 150, 3)),\n",
    "        tf.keras.layers.MaxPooling2D((2, 2)),\n",
    "        tf.keras.layers.Conv2D(64, (3, 3), activation='relu'),\n",
    "        tf.keras.layers.MaxPooling2D((2, 2)),\n",
    "        tf.keras.layers.Conv2D(128, (3, 3), activation='relu'),\n",
    "        tf.keras.layers.MaxPooling2D((2, 2)),\n",
    "        tf.keras.layers.Conv2D(128, (3, 3), activation='relu'),\n",
    "        tf.keras.layers.MaxPooling2D((2, 2)),\n",
    "        tf.keras.layers.Flatten(),\n",
    "        tf.keras.layers.Dense(512, activation='relu'),\n",
    "        tf.keras.layers.Dense(1, activation='sigmoid')])\n",
    "\n",
    "model.compile(loss='binary_crossentropy',\n",
    "        optimizer=optimizers.RMSprop(lr=1e-4),\n",
    "        metrics=['acc'])"
   ]
  },
  {
   "cell_type": "code",
   "execution_count": 22,
   "metadata": {},
   "outputs": [
    {
     "name": "stdout",
     "output_type": "stream",
     "text": [
      "Model: \"sequential\"\n",
      "_________________________________________________________________\n",
      "Layer (type)                 Output Shape              Param #   \n",
      "=================================================================\n",
      "conv2d (Conv2D)              (None, 148, 148, 32)      896       \n",
      "_________________________________________________________________\n",
      "max_pooling2d (MaxPooling2D) (None, 74, 74, 32)        0         \n",
      "_________________________________________________________________\n",
      "conv2d_1 (Conv2D)            (None, 72, 72, 64)        18496     \n",
      "_________________________________________________________________\n",
      "max_pooling2d_1 (MaxPooling2 (None, 36, 36, 64)        0         \n",
      "_________________________________________________________________\n",
      "conv2d_2 (Conv2D)            (None, 34, 34, 128)       73856     \n",
      "_________________________________________________________________\n",
      "max_pooling2d_2 (MaxPooling2 (None, 17, 17, 128)       0         \n",
      "_________________________________________________________________\n",
      "conv2d_3 (Conv2D)            (None, 15, 15, 128)       147584    \n",
      "_________________________________________________________________\n",
      "max_pooling2d_3 (MaxPooling2 (None, 7, 7, 128)         0         \n",
      "_________________________________________________________________\n",
      "flatten (Flatten)            (None, 6272)              0         \n",
      "_________________________________________________________________\n",
      "dense (Dense)                (None, 512)               3211776   \n",
      "_________________________________________________________________\n",
      "dense_1 (Dense)              (None, 1)                 513       \n",
      "=================================================================\n",
      "Total params: 3,453,121\n",
      "Trainable params: 3,453,121\n",
      "Non-trainable params: 0\n",
      "_________________________________________________________________\n"
     ]
    }
   ],
   "source": [
    "model.summary()"
   ]
  },
  {
   "cell_type": "code",
   "execution_count": 23,
   "metadata": {},
   "outputs": [],
   "source": [
    "train_datagen = ImageDataGenerator(\n",
    "        rescale=1./255,\n",
    "        rotation_range=40,\n",
    "        width_shift_range=0.2,\n",
    "        height_shift_range=0.2,\n",
    "        shear_range=0.2,\n",
    "        zoom_range=0.2,\n",
    "        horizontal_flip=True,)"
   ]
  },
  {
   "cell_type": "code",
   "execution_count": 24,
   "metadata": {},
   "outputs": [],
   "source": [
    "test_datagen = ImageDataGenerator(rescale=1./255)"
   ]
  },
  {
   "cell_type": "code",
   "execution_count": 25,
   "metadata": {},
   "outputs": [
    {
     "name": "stdout",
     "output_type": "stream",
     "text": [
      "Found 2345 images belonging to 2 classes.\n"
     ]
    }
   ],
   "source": [
    "train_generator = train_datagen.flow_from_directory(\n",
    "        train_dir,\n",
    "        target_size=(150, 150),\n",
    "        batch_size=18,\n",
    "        class_mode='binary')"
   ]
  },
  {
   "cell_type": "code",
   "execution_count": 26,
   "metadata": {},
   "outputs": [
    {
     "name": "stdout",
     "output_type": "stream",
     "text": [
      "Found 782 images belonging to 2 classes.\n"
     ]
    }
   ],
   "source": [
    "validation_generator = test_datagen.flow_from_directory(\n",
    "        validation_dir,\n",
    "        target_size=(150, 150),\n",
    "        batch_size=18,\n",
    "        class_mode='binary')"
   ]
  },
  {
   "cell_type": "code",
   "execution_count": null,
   "metadata": {},
   "outputs": [],
   "source": []
  },
  {
   "cell_type": "code",
   "execution_count": 27,
   "metadata": {},
   "outputs": [
    {
     "name": "stdout",
     "output_type": "stream",
     "text": [
      "WARNING:tensorflow:sample_weight modes were coerced from\n",
      "  ...\n",
      "    to  \n",
      "  ['...']\n",
      "WARNING:tensorflow:sample_weight modes were coerced from\n",
      "  ...\n",
      "    to  \n",
      "  ['...']\n",
      "Train for 18 steps, validate for 18 steps\n",
      "Epoch 1/235\n",
      "18/18 [==============================] - 3s 154ms/step - loss: 0.6944 - acc: 0.5525 - val_loss: 0.6590 - val_acc: 0.5741\n",
      "Epoch 2/235\n",
      "18/18 [==============================] - 2s 135ms/step - loss: 0.6904 - acc: 0.5000 - val_loss: 0.6701 - val_acc: 0.6451\n",
      "Epoch 3/235\n",
      "18/18 [==============================] - 2s 132ms/step - loss: 0.6618 - acc: 0.6019 - val_loss: 0.6341 - val_acc: 0.6914\n",
      "Epoch 4/235\n",
      "18/18 [==============================] - 2s 129ms/step - loss: 0.6455 - acc: 0.6512 - val_loss: 0.6210 - val_acc: 0.6852\n",
      "Epoch 5/235\n",
      "18/18 [==============================] - 2s 136ms/step - loss: 0.6269 - acc: 0.6327 - val_loss: 0.6421 - val_acc: 0.6204\n",
      "Epoch 6/235\n",
      "18/18 [==============================] - 2s 133ms/step - loss: 0.6203 - acc: 0.6605 - val_loss: 0.6239 - val_acc: 0.6204\n",
      "Epoch 7/235\n",
      "18/18 [==============================] - 2s 126ms/step - loss: 0.5918 - acc: 0.6883 - val_loss: 0.5727 - val_acc: 0.6790\n",
      "Epoch 8/235\n",
      "18/18 [==============================] - 2s 127ms/step - loss: 0.5860 - acc: 0.6881 - val_loss: 0.5593 - val_acc: 0.7006\n",
      "Epoch 9/235\n",
      "18/18 [==============================] - 2s 129ms/step - loss: 0.6033 - acc: 0.6512 - val_loss: 0.6357 - val_acc: 0.6420\n",
      "Epoch 10/235\n",
      "18/18 [==============================] - 2s 130ms/step - loss: 0.5915 - acc: 0.6852 - val_loss: 0.5734 - val_acc: 0.6759\n",
      "Epoch 11/235\n",
      "18/18 [==============================] - 2s 128ms/step - loss: 0.6118 - acc: 0.6481 - val_loss: 0.5484 - val_acc: 0.7099\n",
      "Epoch 12/235\n",
      "18/18 [==============================] - 2s 129ms/step - loss: 0.5905 - acc: 0.6852 - val_loss: 0.6500 - val_acc: 0.6389\n",
      "Epoch 13/235\n",
      "18/18 [==============================] - 2s 130ms/step - loss: 0.5924 - acc: 0.6667 - val_loss: 0.5829 - val_acc: 0.6914\n",
      "Epoch 14/235\n",
      "18/18 [==============================] - 2s 128ms/step - loss: 0.6091 - acc: 0.6667 - val_loss: 0.6182 - val_acc: 0.6204\n",
      "Epoch 15/235\n",
      "18/18 [==============================] - 2s 133ms/step - loss: 0.6240 - acc: 0.6204 - val_loss: 0.5728 - val_acc: 0.7006\n",
      "Epoch 16/235\n",
      "18/18 [==============================] - 2s 132ms/step - loss: 0.5821 - acc: 0.6698 - val_loss: 0.5362 - val_acc: 0.7531\n",
      "Epoch 17/235\n",
      "18/18 [==============================] - 2s 132ms/step - loss: 0.5985 - acc: 0.6914 - val_loss: 0.5292 - val_acc: 0.7654\n",
      "Epoch 18/235\n",
      "18/18 [==============================] - 2s 134ms/step - loss: 0.5860 - acc: 0.6790 - val_loss: 0.5369 - val_acc: 0.7438\n",
      "Epoch 19/235\n",
      "18/18 [==============================] - 2s 131ms/step - loss: 0.5702 - acc: 0.6698 - val_loss: 0.5799 - val_acc: 0.6821\n",
      "Epoch 20/235\n",
      "18/18 [==============================] - 2s 127ms/step - loss: 0.5775 - acc: 0.7068 - val_loss: 0.5507 - val_acc: 0.7253\n",
      "Epoch 21/235\n",
      "18/18 [==============================] - 2s 132ms/step - loss: 0.5400 - acc: 0.7099 - val_loss: 0.5312 - val_acc: 0.7438\n",
      "Epoch 22/235\n",
      "18/18 [==============================] - 2s 127ms/step - loss: 0.5655 - acc: 0.6881 - val_loss: 0.5295 - val_acc: 0.7222\n",
      "Epoch 23/235\n",
      "18/18 [==============================] - 2s 128ms/step - loss: 0.5352 - acc: 0.7222 - val_loss: 0.5433 - val_acc: 0.7253\n",
      "Epoch 24/235\n",
      "18/18 [==============================] - 2s 133ms/step - loss: 0.5875 - acc: 0.6790 - val_loss: 0.5485 - val_acc: 0.7284\n",
      "Epoch 25/235\n",
      "18/18 [==============================] - 2s 127ms/step - loss: 0.5964 - acc: 0.6790 - val_loss: 0.5795 - val_acc: 0.6883\n",
      "Epoch 26/235\n",
      "18/18 [==============================] - 2s 132ms/step - loss: 0.5071 - acc: 0.7500 - val_loss: 0.5891 - val_acc: 0.6975\n",
      "Epoch 27/235\n",
      "18/18 [==============================] - 3s 139ms/step - loss: 0.5839 - acc: 0.6944 - val_loss: 0.5488 - val_acc: 0.7160\n",
      "Epoch 28/235\n",
      "18/18 [==============================] - 2s 133ms/step - loss: 0.5443 - acc: 0.7315 - val_loss: 0.5838 - val_acc: 0.7222\n",
      "Epoch 29/235\n",
      "18/18 [==============================] - 2s 128ms/step - loss: 0.5054 - acc: 0.7346 - val_loss: 0.5838 - val_acc: 0.7130\n",
      "Epoch 30/235\n",
      "18/18 [==============================] - 2s 132ms/step - loss: 0.5445 - acc: 0.6944 - val_loss: 0.5550 - val_acc: 0.7191\n",
      "Epoch 31/235\n",
      "18/18 [==============================] - 2s 130ms/step - loss: 0.5534 - acc: 0.6821 - val_loss: 0.5541 - val_acc: 0.7160\n",
      "Epoch 32/235\n",
      "18/18 [==============================] - 2s 135ms/step - loss: 0.4906 - acc: 0.7500 - val_loss: 0.5559 - val_acc: 0.7469\n",
      "Epoch 33/235\n",
      "18/18 [==============================] - 2s 132ms/step - loss: 0.4876 - acc: 0.7685 - val_loss: 0.5669 - val_acc: 0.7346\n",
      "Epoch 34/235\n",
      "18/18 [==============================] - 2s 132ms/step - loss: 0.5167 - acc: 0.7469 - val_loss: 0.5141 - val_acc: 0.7438\n",
      "Epoch 35/235\n",
      "18/18 [==============================] - 2s 132ms/step - loss: 0.5680 - acc: 0.6728 - val_loss: 0.5032 - val_acc: 0.7809\n",
      "Epoch 36/235\n",
      "18/18 [==============================] - 2s 127ms/step - loss: 0.5629 - acc: 0.6752 - val_loss: 0.5010 - val_acc: 0.7901\n",
      "Epoch 37/235\n",
      "18/18 [==============================] - 2s 127ms/step - loss: 0.5248 - acc: 0.7099 - val_loss: 0.5321 - val_acc: 0.7253\n",
      "Epoch 38/235\n",
      "18/18 [==============================] - 2s 131ms/step - loss: 0.5448 - acc: 0.7315 - val_loss: 0.4939 - val_acc: 0.7901\n",
      "Epoch 39/235\n",
      "18/18 [==============================] - 2s 139ms/step - loss: 0.5464 - acc: 0.7068 - val_loss: 0.5665 - val_acc: 0.6944\n",
      "Epoch 40/235\n",
      "18/18 [==============================] - 2s 130ms/step - loss: 0.5919 - acc: 0.6543 - val_loss: 0.5155 - val_acc: 0.7315\n",
      "Epoch 41/235\n",
      "18/18 [==============================] - 2s 130ms/step - loss: 0.5747 - acc: 0.6759 - val_loss: 0.5081 - val_acc: 0.7778\n",
      "Epoch 42/235\n",
      "18/18 [==============================] - 2s 132ms/step - loss: 0.5544 - acc: 0.7377 - val_loss: 0.7254 - val_acc: 0.6481\n",
      "Epoch 43/235\n",
      "18/18 [==============================] - 2s 133ms/step - loss: 0.5072 - acc: 0.7315 - val_loss: 0.5170 - val_acc: 0.7377\n",
      "Epoch 44/235\n",
      "18/18 [==============================] - 2s 130ms/step - loss: 0.4950 - acc: 0.7623 - val_loss: 0.5400 - val_acc: 0.7099\n",
      "Epoch 45/235\n",
      "18/18 [==============================] - 2s 133ms/step - loss: 0.5349 - acc: 0.7099 - val_loss: 0.6358 - val_acc: 0.6698\n",
      "Epoch 46/235\n",
      "18/18 [==============================] - 2s 129ms/step - loss: 0.5420 - acc: 0.7068 - val_loss: 0.5686 - val_acc: 0.6944\n",
      "Epoch 47/235\n",
      "18/18 [==============================] - 2s 123ms/step - loss: 0.5398 - acc: 0.7042 - val_loss: 0.5199 - val_acc: 0.7469\n",
      "Epoch 48/235\n",
      "18/18 [==============================] - 2s 125ms/step - loss: 0.5253 - acc: 0.7363 - val_loss: 0.4813 - val_acc: 0.7685\n",
      "Epoch 49/235\n",
      "18/18 [==============================] - 2s 133ms/step - loss: 0.5187 - acc: 0.7160 - val_loss: 0.5616 - val_acc: 0.7191\n",
      "Epoch 50/235\n",
      "18/18 [==============================] - 2s 128ms/step - loss: 0.5573 - acc: 0.7253 - val_loss: 0.5143 - val_acc: 0.7438\n",
      "Epoch 51/235\n",
      "18/18 [==============================] - 2s 134ms/step - loss: 0.5490 - acc: 0.7068 - val_loss: 0.5274 - val_acc: 0.7346\n",
      "Epoch 52/235\n",
      "18/18 [==============================] - 2s 137ms/step - loss: 0.5280 - acc: 0.7315 - val_loss: 0.4860 - val_acc: 0.7747\n",
      "Epoch 53/235\n",
      "18/18 [==============================] - 2s 136ms/step - loss: 0.5258 - acc: 0.7160 - val_loss: 0.5435 - val_acc: 0.7222\n",
      "Epoch 54/235\n",
      "18/18 [==============================] - 2s 135ms/step - loss: 0.5470 - acc: 0.7222 - val_loss: 0.4815 - val_acc: 0.7870\n",
      "Epoch 55/235\n",
      "18/18 [==============================] - 2s 132ms/step - loss: 0.4958 - acc: 0.7623 - val_loss: 0.5389 - val_acc: 0.7315\n",
      "Epoch 56/235\n",
      "18/18 [==============================] - 2s 130ms/step - loss: 0.5360 - acc: 0.7222 - val_loss: 0.5335 - val_acc: 0.7438\n",
      "Epoch 57/235\n",
      "18/18 [==============================] - 2s 129ms/step - loss: 0.5485 - acc: 0.7222 - val_loss: 0.5100 - val_acc: 0.7438\n",
      "Epoch 58/235\n",
      "18/18 [==============================] - 2s 127ms/step - loss: 0.5805 - acc: 0.6945 - val_loss: 0.5737 - val_acc: 0.6790\n",
      "Epoch 59/235\n",
      "18/18 [==============================] - 2s 129ms/step - loss: 0.5201 - acc: 0.7222 - val_loss: 0.5776 - val_acc: 0.6883\n",
      "Epoch 60/235\n",
      "18/18 [==============================] - 2s 132ms/step - loss: 0.5181 - acc: 0.7377 - val_loss: 0.4851 - val_acc: 0.7840\n",
      "Epoch 61/235\n",
      "18/18 [==============================] - 2s 132ms/step - loss: 0.5337 - acc: 0.7395 - val_loss: 0.5652 - val_acc: 0.7068\n",
      "Epoch 62/235\n",
      "18/18 [==============================] - 2s 131ms/step - loss: 0.4824 - acc: 0.7654 - val_loss: 0.4895 - val_acc: 0.7932\n",
      "Epoch 63/235\n",
      "18/18 [==============================] - 2s 130ms/step - loss: 0.5343 - acc: 0.7438 - val_loss: 0.4855 - val_acc: 0.7593\n",
      "Epoch 64/235\n",
      "18/18 [==============================] - 2s 130ms/step - loss: 0.5268 - acc: 0.7010 - val_loss: 0.5110 - val_acc: 0.7315\n",
      "Epoch 65/235\n",
      "18/18 [==============================] - 2s 127ms/step - loss: 0.5310 - acc: 0.7331 - val_loss: 0.5449 - val_acc: 0.7130\n",
      "Epoch 66/235\n",
      "18/18 [==============================] - 2s 127ms/step - loss: 0.5235 - acc: 0.7203 - val_loss: 0.4847 - val_acc: 0.7654\n",
      "Epoch 67/235\n",
      "18/18 [==============================] - 2s 134ms/step - loss: 0.5017 - acc: 0.7593 - val_loss: 0.4616 - val_acc: 0.7901\n",
      "Epoch 68/235\n",
      "18/18 [==============================] - 2s 129ms/step - loss: 0.4903 - acc: 0.7901 - val_loss: 0.5030 - val_acc: 0.7531\n",
      "Epoch 69/235\n",
      "18/18 [==============================] - 2s 129ms/step - loss: 0.4901 - acc: 0.7438 - val_loss: 0.4693 - val_acc: 0.7870\n",
      "Epoch 70/235\n",
      "18/18 [==============================] - 2s 130ms/step - loss: 0.5136 - acc: 0.7407 - val_loss: 0.5374 - val_acc: 0.7253\n",
      "Epoch 71/235\n",
      "18/18 [==============================] - 2s 135ms/step - loss: 0.5025 - acc: 0.7870 - val_loss: 0.5039 - val_acc: 0.7500\n",
      "Epoch 72/235\n",
      "18/18 [==============================] - 2s 129ms/step - loss: 0.5178 - acc: 0.7037 - val_loss: 0.4550 - val_acc: 0.7932\n",
      "Epoch 73/235\n",
      "18/18 [==============================] - 2s 132ms/step - loss: 0.4927 - acc: 0.7469 - val_loss: 0.4815 - val_acc: 0.7870\n",
      "Epoch 74/235\n",
      "18/18 [==============================] - 2s 128ms/step - loss: 0.4286 - acc: 0.8025 - val_loss: 0.6837 - val_acc: 0.6852\n",
      "Epoch 75/235\n",
      "18/18 [==============================] - 2s 130ms/step - loss: 0.4967 - acc: 0.7654 - val_loss: 0.4764 - val_acc: 0.7685\n",
      "Epoch 76/235\n",
      "18/18 [==============================] - 2s 132ms/step - loss: 0.4784 - acc: 0.7716 - val_loss: 0.5765 - val_acc: 0.7222\n",
      "Epoch 77/235\n",
      "18/18 [==============================] - 2s 132ms/step - loss: 0.4834 - acc: 0.7346 - val_loss: 0.5059 - val_acc: 0.7500\n",
      "Epoch 78/235\n",
      "18/18 [==============================] - 2s 126ms/step - loss: 0.5031 - acc: 0.7469 - val_loss: 0.4571 - val_acc: 0.7809\n",
      "Epoch 79/235\n",
      "18/18 [==============================] - 2s 128ms/step - loss: 0.4939 - acc: 0.7685 - val_loss: 0.5607 - val_acc: 0.7284\n",
      "Epoch 80/235\n",
      "18/18 [==============================] - 2s 127ms/step - loss: 0.4827 - acc: 0.7562 - val_loss: 0.4937 - val_acc: 0.7562\n",
      "Epoch 81/235\n",
      "18/18 [==============================] - 2s 128ms/step - loss: 0.4563 - acc: 0.7531 - val_loss: 0.4887 - val_acc: 0.7685\n",
      "Epoch 82/235\n",
      "18/18 [==============================] - 2s 129ms/step - loss: 0.5215 - acc: 0.7500 - val_loss: 0.4711 - val_acc: 0.7747\n",
      "Epoch 83/235\n",
      "18/18 [==============================] - 2s 127ms/step - loss: 0.4722 - acc: 0.7974 - val_loss: 0.5624 - val_acc: 0.7191\n",
      "Epoch 84/235\n",
      "18/18 [==============================] - 2s 131ms/step - loss: 0.5215 - acc: 0.7407 - val_loss: 0.4479 - val_acc: 0.7932\n",
      "Epoch 85/235\n",
      "18/18 [==============================] - 2s 134ms/step - loss: 0.5399 - acc: 0.7130 - val_loss: 0.4667 - val_acc: 0.7747\n",
      "Epoch 86/235\n",
      "18/18 [==============================] - 2s 131ms/step - loss: 0.4858 - acc: 0.7469 - val_loss: 0.4587 - val_acc: 0.7809\n",
      "Epoch 87/235\n",
      "18/18 [==============================] - 2s 127ms/step - loss: 0.4732 - acc: 0.7346 - val_loss: 0.4948 - val_acc: 0.7932\n",
      "Epoch 88/235\n",
      "18/18 [==============================] - 2s 130ms/step - loss: 0.4772 - acc: 0.7685 - val_loss: 0.4665 - val_acc: 0.7562\n",
      "Epoch 89/235\n",
      "18/18 [==============================] - 2s 131ms/step - loss: 0.5181 - acc: 0.7315 - val_loss: 0.5239 - val_acc: 0.7377\n",
      "Epoch 90/235\n",
      "18/18 [==============================] - 2s 136ms/step - loss: 0.5109 - acc: 0.7654 - val_loss: 0.4823 - val_acc: 0.7531\n",
      "Epoch 91/235\n",
      "18/18 [==============================] - 2s 137ms/step - loss: 0.4947 - acc: 0.7531 - val_loss: 0.4556 - val_acc: 0.7809\n",
      "Epoch 92/235\n",
      "18/18 [==============================] - 2s 131ms/step - loss: 0.4645 - acc: 0.7562 - val_loss: 0.4991 - val_acc: 0.7500\n",
      "Epoch 93/235\n",
      "18/18 [==============================] - 2s 134ms/step - loss: 0.4667 - acc: 0.7685 - val_loss: 0.5386 - val_acc: 0.7377\n",
      "Epoch 94/235\n",
      "18/18 [==============================] - 2s 131ms/step - loss: 0.4968 - acc: 0.7407 - val_loss: 0.4897 - val_acc: 0.7593\n",
      "Epoch 95/235\n",
      "18/18 [==============================] - 2s 130ms/step - loss: 0.4762 - acc: 0.7685 - val_loss: 0.4557 - val_acc: 0.7531\n",
      "Epoch 96/235\n",
      "18/18 [==============================] - 2s 128ms/step - loss: 0.4761 - acc: 0.7469 - val_loss: 0.4755 - val_acc: 0.7716\n",
      "Epoch 97/235\n",
      "18/18 [==============================] - 2s 129ms/step - loss: 0.4680 - acc: 0.7747 - val_loss: 0.4518 - val_acc: 0.7932\n",
      "Epoch 98/235\n",
      "18/18 [==============================] - 2s 133ms/step - loss: 0.4745 - acc: 0.7407 - val_loss: 0.4958 - val_acc: 0.7500\n",
      "Epoch 99/235\n",
      "18/18 [==============================] - 2s 132ms/step - loss: 0.5111 - acc: 0.7593 - val_loss: 0.6610 - val_acc: 0.6728\n",
      "Epoch 100/235\n",
      "18/18 [==============================] - 2s 131ms/step - loss: 0.5027 - acc: 0.7469 - val_loss: 0.5907 - val_acc: 0.7037\n",
      "Epoch 101/235\n",
      "18/18 [==============================] - 2s 127ms/step - loss: 0.4841 - acc: 0.7653 - val_loss: 0.5457 - val_acc: 0.7099\n",
      "Epoch 102/235\n",
      "18/18 [==============================] - 2s 133ms/step - loss: 0.5202 - acc: 0.7377 - val_loss: 0.4485 - val_acc: 0.7778\n",
      "Epoch 103/235\n",
      "18/18 [==============================] - 2s 133ms/step - loss: 0.4874 - acc: 0.7716 - val_loss: 0.4395 - val_acc: 0.7901\n",
      "Epoch 104/235\n",
      "18/18 [==============================] - 2s 132ms/step - loss: 0.5240 - acc: 0.7407 - val_loss: 0.4987 - val_acc: 0.7346\n",
      "Epoch 105/235\n",
      "18/18 [==============================] - 2s 130ms/step - loss: 0.4835 - acc: 0.7716 - val_loss: 0.5221 - val_acc: 0.7377\n",
      "Epoch 106/235\n",
      "18/18 [==============================] - 2s 130ms/step - loss: 0.4724 - acc: 0.7870 - val_loss: 0.5723 - val_acc: 0.7222\n",
      "Epoch 107/235\n",
      "18/18 [==============================] - 2s 131ms/step - loss: 0.5070 - acc: 0.7623 - val_loss: 0.4541 - val_acc: 0.7747\n",
      "Epoch 108/235\n",
      "18/18 [==============================] - 2s 130ms/step - loss: 0.4787 - acc: 0.7407 - val_loss: 0.5476 - val_acc: 0.7130\n",
      "Epoch 109/235\n",
      "18/18 [==============================] - 2s 130ms/step - loss: 0.4621 - acc: 0.7623 - val_loss: 0.6060 - val_acc: 0.7191\n",
      "Epoch 110/235\n",
      "18/18 [==============================] - 2s 126ms/step - loss: 0.5171 - acc: 0.7524 - val_loss: 0.4679 - val_acc: 0.7747\n",
      "Epoch 111/235\n",
      "18/18 [==============================] - 2s 128ms/step - loss: 0.4988 - acc: 0.7531 - val_loss: 0.4957 - val_acc: 0.7438\n",
      "Epoch 112/235\n",
      "18/18 [==============================] - 2s 125ms/step - loss: 0.4429 - acc: 0.7878 - val_loss: 0.5061 - val_acc: 0.7685\n",
      "Epoch 113/235\n",
      "18/18 [==============================] - 2s 125ms/step - loss: 0.4200 - acc: 0.8103 - val_loss: 0.5312 - val_acc: 0.7531\n",
      "Epoch 114/235\n",
      "18/18 [==============================] - 2s 133ms/step - loss: 0.4832 - acc: 0.7438 - val_loss: 0.5195 - val_acc: 0.7377\n",
      "Epoch 115/235\n",
      "18/18 [==============================] - 2s 128ms/step - loss: 0.5089 - acc: 0.7160 - val_loss: 0.5567 - val_acc: 0.7130\n",
      "Epoch 116/235\n",
      "18/18 [==============================] - 2s 132ms/step - loss: 0.4850 - acc: 0.7716 - val_loss: 0.4829 - val_acc: 0.7593\n",
      "Epoch 117/235\n",
      "18/18 [==============================] - 2s 133ms/step - loss: 0.5247 - acc: 0.7346 - val_loss: 0.4886 - val_acc: 0.7623\n",
      "Epoch 118/235\n",
      "18/18 [==============================] - 2s 131ms/step - loss: 0.4981 - acc: 0.7623 - val_loss: 0.4473 - val_acc: 0.7778\n",
      "Epoch 119/235\n",
      "18/18 [==============================] - 3s 140ms/step - loss: 0.4106 - acc: 0.8148 - val_loss: 0.5040 - val_acc: 0.7562\n",
      "Epoch 120/235\n",
      "18/18 [==============================] - 2s 131ms/step - loss: 0.4314 - acc: 0.7846 - val_loss: 0.4983 - val_acc: 0.7994\n",
      "Epoch 121/235\n"
     ]
    },
    {
     "name": "stdout",
     "output_type": "stream",
     "text": [
      "18/18 [==============================] - 2s 132ms/step - loss: 0.5363 - acc: 0.7377 - val_loss: 0.4888 - val_acc: 0.7623\n",
      "Epoch 122/235\n",
      "18/18 [==============================] - 2s 134ms/step - loss: 0.4796 - acc: 0.7593 - val_loss: 0.5575 - val_acc: 0.7160\n",
      "Epoch 123/235\n",
      "18/18 [==============================] - 2s 130ms/step - loss: 0.4605 - acc: 0.7500 - val_loss: 0.4436 - val_acc: 0.7840\n",
      "Epoch 124/235\n",
      "18/18 [==============================] - 2s 129ms/step - loss: 0.4935 - acc: 0.7191 - val_loss: 0.4868 - val_acc: 0.7623\n",
      "Epoch 125/235\n",
      "18/18 [==============================] - 2s 131ms/step - loss: 0.4839 - acc: 0.7500 - val_loss: 0.4454 - val_acc: 0.7685\n",
      "Epoch 126/235\n",
      "18/18 [==============================] - 2s 129ms/step - loss: 0.4815 - acc: 0.7685 - val_loss: 0.6328 - val_acc: 0.7099\n",
      "Epoch 127/235\n",
      "18/18 [==============================] - 2s 131ms/step - loss: 0.4521 - acc: 0.7870 - val_loss: 0.4804 - val_acc: 0.7747\n",
      "Epoch 128/235\n",
      "18/18 [==============================] - 2s 131ms/step - loss: 0.4332 - acc: 0.7932 - val_loss: 0.5973 - val_acc: 0.7253\n",
      "Epoch 129/235\n",
      "18/18 [==============================] - 2s 129ms/step - loss: 0.4699 - acc: 0.7562 - val_loss: 0.7718 - val_acc: 0.6389\n",
      "Epoch 130/235\n",
      "18/18 [==============================] - 2s 132ms/step - loss: 0.4529 - acc: 0.7623 - val_loss: 0.5097 - val_acc: 0.7438\n",
      "Epoch 131/235\n",
      "18/18 [==============================] - 2s 127ms/step - loss: 0.5168 - acc: 0.7331 - val_loss: 0.4384 - val_acc: 0.7932\n",
      "Epoch 132/235\n",
      "18/18 [==============================] - 2s 131ms/step - loss: 0.4789 - acc: 0.7438 - val_loss: 0.5040 - val_acc: 0.7531\n",
      "Epoch 133/235\n",
      "18/18 [==============================] - 2s 131ms/step - loss: 0.4414 - acc: 0.8025 - val_loss: 0.6708 - val_acc: 0.6914\n",
      "Epoch 134/235\n",
      "18/18 [==============================] - 2s 129ms/step - loss: 0.4477 - acc: 0.7460 - val_loss: 0.5182 - val_acc: 0.7562\n",
      "Epoch 135/235\n",
      "18/18 [==============================] - 2s 131ms/step - loss: 0.4644 - acc: 0.7685 - val_loss: 0.4568 - val_acc: 0.7685\n",
      "Epoch 136/235\n",
      "18/18 [==============================] - 2s 131ms/step - loss: 0.4909 - acc: 0.7685 - val_loss: 0.5304 - val_acc: 0.7531\n",
      "Epoch 137/235\n",
      "18/18 [==============================] - 2s 128ms/step - loss: 0.4711 - acc: 0.7623 - val_loss: 0.5252 - val_acc: 0.7531\n",
      "Epoch 138/235\n",
      "18/18 [==============================] - 2s 129ms/step - loss: 0.4595 - acc: 0.7654 - val_loss: 0.4828 - val_acc: 0.7685\n",
      "Epoch 139/235\n",
      "18/18 [==============================] - 2s 132ms/step - loss: 0.4850 - acc: 0.7623 - val_loss: 0.5414 - val_acc: 0.7469\n",
      "Epoch 140/235\n",
      "18/18 [==============================] - 2s 128ms/step - loss: 0.4809 - acc: 0.7500 - val_loss: 0.4865 - val_acc: 0.7562\n",
      "Epoch 141/235\n",
      "18/18 [==============================] - 2s 131ms/step - loss: 0.4885 - acc: 0.7469 - val_loss: 0.6253 - val_acc: 0.7099\n",
      "Epoch 142/235\n",
      "18/18 [==============================] - 2s 127ms/step - loss: 0.4381 - acc: 0.7814 - val_loss: 0.4642 - val_acc: 0.7778\n",
      "Epoch 143/235\n",
      "18/18 [==============================] - 2s 133ms/step - loss: 0.4989 - acc: 0.7492 - val_loss: 0.4693 - val_acc: 0.7623\n",
      "Epoch 144/235\n",
      "18/18 [==============================] - 2s 127ms/step - loss: 0.5289 - acc: 0.7284 - val_loss: 0.4409 - val_acc: 0.7809\n",
      "Epoch 145/235\n",
      "18/18 [==============================] - 2s 134ms/step - loss: 0.4743 - acc: 0.7500 - val_loss: 0.4830 - val_acc: 0.7778\n",
      "Epoch 146/235\n",
      "18/18 [==============================] - 2s 130ms/step - loss: 0.4098 - acc: 0.8148 - val_loss: 0.5078 - val_acc: 0.7593\n",
      "Epoch 147/235\n",
      "18/18 [==============================] - 2s 129ms/step - loss: 0.4301 - acc: 0.7778 - val_loss: 0.5573 - val_acc: 0.7438\n",
      "Epoch 148/235\n",
      "18/18 [==============================] - 2s 129ms/step - loss: 0.4949 - acc: 0.7556 - val_loss: 0.4128 - val_acc: 0.8179\n",
      "Epoch 149/235\n",
      "18/18 [==============================] - 2s 133ms/step - loss: 0.4651 - acc: 0.7963 - val_loss: 0.6904 - val_acc: 0.6852\n",
      "Epoch 150/235\n",
      "18/18 [==============================] - 2s 133ms/step - loss: 0.4858 - acc: 0.7901 - val_loss: 0.4886 - val_acc: 0.7623\n",
      "Epoch 151/235\n",
      "18/18 [==============================] - 2s 134ms/step - loss: 0.4454 - acc: 0.8086 - val_loss: 0.7793 - val_acc: 0.6327\n",
      "Epoch 152/235\n",
      "18/18 [==============================] - 2s 129ms/step - loss: 0.4729 - acc: 0.7469 - val_loss: 0.5798 - val_acc: 0.7037\n",
      "Epoch 153/235\n",
      "18/18 [==============================] - 2s 130ms/step - loss: 0.4344 - acc: 0.8056 - val_loss: 0.5287 - val_acc: 0.7469\n",
      "Epoch 154/235\n",
      "18/18 [==============================] - 2s 124ms/step - loss: 0.4786 - acc: 0.7331 - val_loss: 0.4177 - val_acc: 0.8210\n",
      "Epoch 155/235\n",
      "18/18 [==============================] - 2s 130ms/step - loss: 0.4179 - acc: 0.7901 - val_loss: 0.4291 - val_acc: 0.7994\n",
      "Epoch 156/235\n",
      "18/18 [==============================] - 2s 130ms/step - loss: 0.4197 - acc: 0.7901 - val_loss: 0.4233 - val_acc: 0.8210\n",
      "Epoch 157/235\n",
      "18/18 [==============================] - 2s 132ms/step - loss: 0.4564 - acc: 0.7685 - val_loss: 0.8511 - val_acc: 0.6358\n",
      "Epoch 158/235\n",
      "18/18 [==============================] - 2s 131ms/step - loss: 0.4851 - acc: 0.7685 - val_loss: 0.5021 - val_acc: 0.7685\n",
      "Epoch 159/235\n",
      "18/18 [==============================] - 2s 139ms/step - loss: 0.4346 - acc: 0.8056 - val_loss: 0.4919 - val_acc: 0.7623\n",
      "Epoch 160/235\n",
      "18/18 [==============================] - 2s 136ms/step - loss: 0.4316 - acc: 0.7840 - val_loss: 0.4670 - val_acc: 0.7932\n",
      "Epoch 161/235\n",
      "18/18 [==============================] - 2s 133ms/step - loss: 0.4824 - acc: 0.7562 - val_loss: 0.5021 - val_acc: 0.7685\n",
      "Epoch 162/235\n",
      "18/18 [==============================] - 2s 132ms/step - loss: 0.4413 - acc: 0.7809 - val_loss: 0.4526 - val_acc: 0.7963\n",
      "Epoch 163/235\n",
      "18/18 [==============================] - 2s 129ms/step - loss: 0.4177 - acc: 0.8167 - val_loss: 0.4205 - val_acc: 0.8272\n",
      "Epoch 164/235\n",
      "18/18 [==============================] - 2s 130ms/step - loss: 0.4279 - acc: 0.7846 - val_loss: 0.4493 - val_acc: 0.7870\n",
      "Epoch 165/235\n",
      "18/18 [==============================] - 2s 136ms/step - loss: 0.4679 - acc: 0.7716 - val_loss: 0.4867 - val_acc: 0.7531\n",
      "Epoch 166/235\n",
      "18/18 [==============================] - 2s 134ms/step - loss: 0.4638 - acc: 0.7840 - val_loss: 0.6720 - val_acc: 0.6944\n",
      "Epoch 167/235\n",
      "18/18 [==============================] - 2s 132ms/step - loss: 0.4560 - acc: 0.7469 - val_loss: 0.4560 - val_acc: 0.7809\n",
      "Epoch 168/235\n",
      "18/18 [==============================] - 2s 134ms/step - loss: 0.4402 - acc: 0.7870 - val_loss: 0.7705 - val_acc: 0.6821\n",
      "Epoch 169/235\n",
      "18/18 [==============================] - 2s 135ms/step - loss: 0.4720 - acc: 0.7346 - val_loss: 0.5546 - val_acc: 0.7315\n",
      "Epoch 170/235\n",
      "18/18 [==============================] - 2s 129ms/step - loss: 0.4175 - acc: 0.8117 - val_loss: 0.4117 - val_acc: 0.8117\n",
      "Epoch 171/235\n",
      "18/18 [==============================] - 2s 132ms/step - loss: 0.4920 - acc: 0.7623 - val_loss: 0.4575 - val_acc: 0.7747\n",
      "Epoch 172/235\n",
      "18/18 [==============================] - 2s 131ms/step - loss: 0.4285 - acc: 0.8006 - val_loss: 0.6323 - val_acc: 0.6944\n",
      "Epoch 173/235\n",
      "18/18 [==============================] - 2s 130ms/step - loss: 0.4815 - acc: 0.7623 - val_loss: 0.5546 - val_acc: 0.7222\n",
      "Epoch 174/235\n",
      "18/18 [==============================] - 2s 131ms/step - loss: 0.4559 - acc: 0.7870 - val_loss: 0.4201 - val_acc: 0.8056\n",
      "Epoch 175/235\n",
      "18/18 [==============================] - 2s 133ms/step - loss: 0.4252 - acc: 0.7963 - val_loss: 0.5957 - val_acc: 0.7346\n",
      "Epoch 176/235\n",
      "18/18 [==============================] - 2s 132ms/step - loss: 0.4314 - acc: 0.7994 - val_loss: 0.4934 - val_acc: 0.7654\n",
      "Epoch 177/235\n",
      "18/18 [==============================] - 2s 130ms/step - loss: 0.4337 - acc: 0.7932 - val_loss: 0.4582 - val_acc: 0.7901\n",
      "Epoch 178/235\n",
      "18/18 [==============================] - 2s 136ms/step - loss: 0.4740 - acc: 0.7685 - val_loss: 0.4551 - val_acc: 0.7901\n",
      "Epoch 179/235\n",
      "18/18 [==============================] - 2s 132ms/step - loss: 0.3872 - acc: 0.8086 - val_loss: 0.4437 - val_acc: 0.8086\n",
      "Epoch 180/235\n",
      "18/18 [==============================] - 2s 130ms/step - loss: 0.4496 - acc: 0.7910 - val_loss: 0.4381 - val_acc: 0.7932\n",
      "Epoch 181/235\n",
      "18/18 [==============================] - 2s 129ms/step - loss: 0.4255 - acc: 0.7963 - val_loss: 0.4749 - val_acc: 0.7654\n"
     ]
    },
    {
     "name": "stdout",
     "output_type": "stream",
     "text": [
      "Epoch 182/235\n",
      "18/18 [==============================] - 3s 139ms/step - loss: 0.4633 - acc: 0.7840 - val_loss: 0.4196 - val_acc: 0.8056\n",
      "Epoch 183/235\n",
      "18/18 [==============================] - 2s 138ms/step - loss: 0.4352 - acc: 0.7840 - val_loss: 0.4706 - val_acc: 0.7994\n",
      "Epoch 184/235\n",
      "18/18 [==============================] - 2s 131ms/step - loss: 0.4551 - acc: 0.7901 - val_loss: 0.5702 - val_acc: 0.7284\n",
      "Epoch 185/235\n",
      "18/18 [==============================] - 2s 131ms/step - loss: 0.3497 - acc: 0.8426 - val_loss: 0.4842 - val_acc: 0.7778\n",
      "Epoch 186/235\n",
      "18/18 [==============================] - 2s 128ms/step - loss: 0.4387 - acc: 0.7747 - val_loss: 0.5513 - val_acc: 0.7623\n",
      "Epoch 187/235\n",
      "18/18 [==============================] - 2s 130ms/step - loss: 0.4397 - acc: 0.7593 - val_loss: 0.5196 - val_acc: 0.7685\n",
      "Epoch 188/235\n",
      "18/18 [==============================] - 2s 132ms/step - loss: 0.3940 - acc: 0.7932 - val_loss: 0.4483 - val_acc: 0.7840\n",
      "Epoch 189/235\n",
      "18/18 [==============================] - 2s 132ms/step - loss: 0.4455 - acc: 0.7994 - val_loss: 0.5756 - val_acc: 0.7284\n",
      "Epoch 190/235\n",
      "18/18 [==============================] - 2s 133ms/step - loss: 0.4349 - acc: 0.7747 - val_loss: 0.4618 - val_acc: 0.7963\n",
      "Epoch 191/235\n",
      "18/18 [==============================] - 2s 133ms/step - loss: 0.4257 - acc: 0.8117 - val_loss: 0.4201 - val_acc: 0.8210\n",
      "Epoch 192/235\n",
      "18/18 [==============================] - 2s 135ms/step - loss: 0.4070 - acc: 0.7840 - val_loss: 0.6866 - val_acc: 0.7037\n",
      "Epoch 193/235\n",
      "18/18 [==============================] - 2s 135ms/step - loss: 0.4376 - acc: 0.7932 - val_loss: 0.5539 - val_acc: 0.7407\n",
      "Epoch 194/235\n",
      "18/18 [==============================] - 2s 135ms/step - loss: 0.4387 - acc: 0.7562 - val_loss: 0.4961 - val_acc: 0.7747\n",
      "Epoch 195/235\n",
      "18/18 [==============================] - 2s 138ms/step - loss: 0.4226 - acc: 0.8086 - val_loss: 0.5222 - val_acc: 0.7623\n",
      "Epoch 196/235\n",
      "18/18 [==============================] - 2s 132ms/step - loss: 0.4476 - acc: 0.7870 - val_loss: 0.4438 - val_acc: 0.7901\n",
      "Epoch 197/235\n",
      "18/18 [==============================] - 2s 131ms/step - loss: 0.4337 - acc: 0.8148 - val_loss: 0.4370 - val_acc: 0.7994\n",
      "Epoch 198/235\n",
      "18/18 [==============================] - 2s 135ms/step - loss: 0.3795 - acc: 0.8210 - val_loss: 0.5769 - val_acc: 0.7500\n",
      "Epoch 199/235\n",
      "18/18 [==============================] - 2s 131ms/step - loss: 0.4100 - acc: 0.8086 - val_loss: 0.4631 - val_acc: 0.7809\n",
      "Epoch 200/235\n",
      "18/18 [==============================] - 2s 137ms/step - loss: 0.4635 - acc: 0.7809 - val_loss: 0.4270 - val_acc: 0.8056\n",
      "Epoch 201/235\n",
      "18/18 [==============================] - 2s 134ms/step - loss: 0.4153 - acc: 0.7870 - val_loss: 0.4307 - val_acc: 0.8025\n",
      "Epoch 202/235\n",
      "18/18 [==============================] - 2s 134ms/step - loss: 0.4264 - acc: 0.7932 - val_loss: 0.4962 - val_acc: 0.7531\n",
      "Epoch 203/235\n",
      "18/18 [==============================] - 2s 134ms/step - loss: 0.4179 - acc: 0.8148 - val_loss: 0.6298 - val_acc: 0.7037\n",
      "Epoch 204/235\n",
      "18/18 [==============================] - 2s 132ms/step - loss: 0.4307 - acc: 0.7994 - val_loss: 0.4607 - val_acc: 0.7963\n",
      "Epoch 205/235\n",
      "18/18 [==============================] - 2s 128ms/step - loss: 0.4415 - acc: 0.8071 - val_loss: 0.4370 - val_acc: 0.8056\n",
      "Epoch 206/235\n",
      "18/18 [==============================] - 2s 134ms/step - loss: 0.3962 - acc: 0.8148 - val_loss: 0.4704 - val_acc: 0.7870\n",
      "Epoch 207/235\n",
      "18/18 [==============================] - 2s 136ms/step - loss: 0.4523 - acc: 0.8056 - val_loss: 0.4203 - val_acc: 0.8056\n",
      "Epoch 208/235\n",
      "18/18 [==============================] - 2s 137ms/step - loss: 0.4383 - acc: 0.7932 - val_loss: 0.5126 - val_acc: 0.7747\n",
      "Epoch 209/235\n",
      "18/18 [==============================] - 2s 132ms/step - loss: 0.4355 - acc: 0.8148 - val_loss: 0.4595 - val_acc: 0.7778\n",
      "Epoch 210/235\n",
      "18/18 [==============================] - 2s 133ms/step - loss: 0.4297 - acc: 0.8148 - val_loss: 0.5117 - val_acc: 0.7593\n",
      "Epoch 211/235\n",
      "18/18 [==============================] - 2s 135ms/step - loss: 0.4403 - acc: 0.7747 - val_loss: 0.4800 - val_acc: 0.7840\n",
      "Epoch 212/235\n",
      "18/18 [==============================] - 2s 129ms/step - loss: 0.4230 - acc: 0.7685 - val_loss: 0.5269 - val_acc: 0.7654\n",
      "Epoch 213/235\n",
      "18/18 [==============================] - 2s 134ms/step - loss: 0.4780 - acc: 0.7716 - val_loss: 0.5130 - val_acc: 0.7747\n",
      "Epoch 214/235\n",
      "18/18 [==============================] - 2s 128ms/step - loss: 0.4442 - acc: 0.7749 - val_loss: 0.4661 - val_acc: 0.7901\n",
      "Epoch 215/235\n",
      "18/18 [==============================] - 2s 132ms/step - loss: 0.4206 - acc: 0.7840 - val_loss: 0.4296 - val_acc: 0.7840\n",
      "Epoch 216/235\n",
      "18/18 [==============================] - 2s 133ms/step - loss: 0.4274 - acc: 0.7716 - val_loss: 0.6161 - val_acc: 0.7253\n",
      "Epoch 217/235\n",
      "18/18 [==============================] - 2s 132ms/step - loss: 0.4432 - acc: 0.7846 - val_loss: 0.6596 - val_acc: 0.6821\n",
      "Epoch 218/235\n",
      "18/18 [==============================] - 2s 131ms/step - loss: 0.3864 - acc: 0.8272 - val_loss: 0.4273 - val_acc: 0.7963\n",
      "Epoch 219/235\n",
      "18/18 [==============================] - 2s 129ms/step - loss: 0.4044 - acc: 0.8086 - val_loss: 0.5125 - val_acc: 0.7870\n",
      "Epoch 220/235\n",
      "18/18 [==============================] - 2s 131ms/step - loss: 0.3701 - acc: 0.8364 - val_loss: 0.7282 - val_acc: 0.7191\n",
      "Epoch 221/235\n",
      "18/18 [==============================] - 2s 130ms/step - loss: 0.4224 - acc: 0.8148 - val_loss: 0.5287 - val_acc: 0.7716\n",
      "Epoch 222/235\n",
      "18/18 [==============================] - 2s 135ms/step - loss: 0.3940 - acc: 0.7994 - val_loss: 0.5543 - val_acc: 0.7685\n",
      "Epoch 223/235\n",
      "18/18 [==============================] - 2s 136ms/step - loss: 0.3797 - acc: 0.8148 - val_loss: 0.5807 - val_acc: 0.7685\n",
      "Epoch 224/235\n",
      "18/18 [==============================] - 2s 131ms/step - loss: 0.4176 - acc: 0.7870 - val_loss: 0.6233 - val_acc: 0.7407\n",
      "Epoch 225/235\n",
      "18/18 [==============================] - 2s 130ms/step - loss: 0.3976 - acc: 0.8117 - val_loss: 0.5752 - val_acc: 0.7531\n",
      "Epoch 226/235\n",
      "18/18 [==============================] - 2s 137ms/step - loss: 0.4331 - acc: 0.7901 - val_loss: 0.4999 - val_acc: 0.7901\n",
      "Epoch 227/235\n",
      "18/18 [==============================] - 2s 129ms/step - loss: 0.4109 - acc: 0.8071 - val_loss: 0.4307 - val_acc: 0.8025\n",
      "Epoch 228/235\n",
      "18/18 [==============================] - 2s 136ms/step - loss: 0.3651 - acc: 0.8086 - val_loss: 0.4914 - val_acc: 0.7963\n",
      "Epoch 229/235\n",
      "18/18 [==============================] - 2s 131ms/step - loss: 0.4392 - acc: 0.7901 - val_loss: 0.4932 - val_acc: 0.7932\n",
      "Epoch 230/235\n",
      "18/18 [==============================] - 2s 135ms/step - loss: 0.4231 - acc: 0.7809 - val_loss: 0.4525 - val_acc: 0.8086\n",
      "Epoch 231/235\n",
      "18/18 [==============================] - 2s 129ms/step - loss: 0.3615 - acc: 0.8457 - val_loss: 0.6653 - val_acc: 0.7315\n",
      "Epoch 232/235\n",
      "18/18 [==============================] - 2s 133ms/step - loss: 0.3856 - acc: 0.8333 - val_loss: 0.4466 - val_acc: 0.7994\n",
      "Epoch 233/235\n",
      "18/18 [==============================] - 2s 136ms/step - loss: 0.3892 - acc: 0.8148 - val_loss: 0.4609 - val_acc: 0.7994\n",
      "Epoch 234/235\n",
      "18/18 [==============================] - 2s 138ms/step - loss: 0.4194 - acc: 0.8025 - val_loss: 0.4773 - val_acc: 0.7932\n",
      "Epoch 235/235\n",
      "18/18 [==============================] - 2s 133ms/step - loss: 0.3947 - acc: 0.8056 - val_loss: 0.4683 - val_acc: 0.7901\n"
     ]
    }
   ],
   "source": [
    "history = model.fit(\n",
    "        train_generator,\n",
    "        steps_per_epoch=18,\n",
    "        epochs=100,\n",
    "        validation_data = validation_generator,\n",
    "        validation_steps=18)"
   ]
  },
  {
   "cell_type": "code",
   "execution_count": 28,
   "metadata": {
    "scrolled": true
   },
   "outputs": [
    {
     "data": {
      "image/png": "[encoded data removed]",
      "text/plain": [
       "<matplotlib.figure.Figure at 0x7f1ac11c4f60>"
      ]
     },
     "metadata": {
      "needs_background": "light"
     },
     "output_type": "display_data"
    },
    {
     "data": {
      "image/png": "[encoded data removed]",
      "text/plain": [
       "<matplotlib.figure.Figure at 0x7f1ac11259e8>"
      ]
     },
     "metadata": {
      "needs_background": "light"
     },
     "output_type": "display_data"
    }
   ],
   "source": [
    "acc = history.history['acc']\n",
    "val_acc = history.history['val_acc']\n",
    "loss = history.history['loss']\n",
    "val_loss = history.history['val_loss']\n",
    "\n",
    "epochs = range(1, len(acc) + 1)\n",
    "\n",
    "plt.plot(epochs, acc, 'bo', label='Training acc')\n",
    "plt.plot(epochs, val_acc, 'b', label='Validation acc')\n",
    "plt.title('Training and validation accuracy')\n",
    "plt.legend()\n",
    "\n",
    "plt.figure()\n",
    "\n",
    "plt.plot(epochs, loss, 'bo', label='Training loss')\n",
    "plt.plot(epochs, val_loss, 'b', label='Validation loss')\n",
    "plt.title('Training and validation loss')\n",
    "plt.legend()\n",
    "\n",
    "plt.show()"
   ]
  },
  {
   "cell_type": "code",
   "execution_count": 29,
   "metadata": {},
   "outputs": [
    {
     "data": {
      "image/png": "[encoded data removed]",
      "text/plain": [
       "<matplotlib.figure.Figure at 0x7f1ac1149278>"
      ]
     },
     "metadata": {
      "needs_background": "light"
     },
     "output_type": "display_data"
    },
    {
     "data": {
      "image/png": "[encoded data removed]",
      "text/plain": [
       "<matplotlib.figure.Figure at 0x7f1ac0843c88>"
      ]
     },
     "metadata": {
      "needs_background": "light"
     },
     "output_type": "display_data"
    }
   ],
   "source": [
    "def smooth_curve(points, factor=0.85):\n",
    "    smoothed_points = []\n",
    "    for point in points:\n",
    "        if smoothed_points:\n",
    "            previous = smoothed_points[-1]\n",
    "            smoothed_points.append(previous * factor + point * (1 - factor))\n",
    "        else:\n",
    "            smoothed_points.append(point)\n",
    "    return smoothed_points\n",
    "\n",
    "plt.plot(epochs,\n",
    "        smooth_curve(acc), 'bo', label='Smoothed training acc')\n",
    "plt.plot(epochs,\n",
    "        smooth_curve(val_acc), 'b', label='Smoothed validation acc')\n",
    "plt.title('Training and validation accuracy')\n",
    "plt.legend()\n",
    "\n",
    "plt.figure()\n",
    "\n",
    "plt.plot(epochs,\n",
    "        smooth_curve(loss), 'bo', label='Smoothed training loss')\n",
    "plt.plot(epochs,\n",
    "        smooth_curve(val_loss), 'b', label='Smoothed validation loss')\n",
    "plt.title('Training and validation loss')\n",
    "plt.legend()\n",
    "\n",
    "plt.show()"
   ]
  },
  {
   "cell_type": "code",
   "execution_count": 30,
   "metadata": {},
   "outputs": [
    {
     "name": "stdout",
     "output_type": "stream",
     "text": [
      "Found 783 images belonging to 2 classes.\n",
      "WARNING:tensorflow:sample_weight modes were coerced from\n",
      "  ...\n",
      "    to  \n",
      "  ['...']\n",
      "18/18 [==============================] - 1s 35ms/step - loss: 0.4958 - acc: 0.8056\n",
      "test acc: 0.8055556\n"
     ]
    }
   ],
   "source": [
    "test_generator = test_datagen.flow_from_directory(\n",
    "        test_dir,\n",
    "        target_size=(150, 150),\n",
    "        batch_size=18,\n",
    "        class_mode='binary')\n",
    "test_loss, test_acc = model.evaluate(test_generator, steps=18)\n",
    "print('test acc:', test_acc)"
   ]
  },
  {
   "cell_type": "code",
   "execution_count": 31,
   "metadata": {},
   "outputs": [],
   "source": [
    "model.save('cash_crop_4C_2D_4.h5')"
   ]
  },
  {
   "cell_type": "code",
   "execution_count": null,
   "metadata": {},
   "outputs": [],
   "source": []
  }
 ],
 "metadata": {
  "kernelspec": {
   "display_name": "Python 3",
   "language": "python",
   "name": "python3"
  },
  "language_info": {
   "codemirror_mode": {
    "name": "ipython",
    "version": 3
   },
   "file_extension": ".py",
   "mimetype": "text/x-python",
   "name": "python",
   "nbconvert_exporter": "python",
   "pygments_lexer": "ipython3",
   "version": "3.6.9"
  }
 },
 "nbformat": 4,
 "nbformat_minor": 2
}
