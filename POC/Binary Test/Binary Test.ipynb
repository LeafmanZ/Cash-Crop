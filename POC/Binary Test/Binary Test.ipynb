{
 "cells": [
  {
   "cell_type": "code",
   "execution_count": 1,
   "metadata": {},
   "outputs": [],
   "source": [
    "import os, shutil"
   ]
  },
  {
   "cell_type": "code",
   "execution_count": 2,
   "metadata": {},
   "outputs": [],
   "source": [
    "original_dataset_dir = '/home/leafmonk/Documents/Cash Crop POC/images'"
   ]
  },
  {
   "cell_type": "code",
   "execution_count": 3,
   "metadata": {},
   "outputs": [],
   "source": [
    "base_dir = '/home/leafmonk/Documents/Cash Crop POC/POC'\n",
    "os.mkdir(base_dir)"
   ]
  },
  {
   "cell_type": "code",
   "execution_count": 4,
   "metadata": {},
   "outputs": [],
   "source": [
    "train_dir = os.path.join(base_dir, 'train')\n",
    "os.mkdir(train_dir)\n",
    "\n",
    "validation_dir = os.path.join(base_dir, 'validation')\n",
    "os.mkdir(validation_dir)\n",
    "\n",
    "test_dir = os.path.join(base_dir, 'test')\n",
    "os.mkdir(test_dir)"
   ]
  },
  {
   "cell_type": "code",
   "execution_count": 5,
   "metadata": {},
   "outputs": [],
   "source": [
    "train_hydrangea_dir = os.path.join(train_dir, 'hydrangea')\n",
    "os.mkdir(train_hydrangea_dir)"
   ]
  },
  {
   "cell_type": "code",
   "execution_count": 6,
   "metadata": {},
   "outputs": [],
   "source": [
    "train_elephant_dir = os.path.join(train_dir, 'elephant')\n",
    "os.mkdir(train_elephant_dir)"
   ]
  },
  {
   "cell_type": "code",
   "execution_count": 7,
   "metadata": {},
   "outputs": [],
   "source": [
    "validation_hydrangea_dir = os.path.join(validation_dir, 'hydrangea')\n",
    "os.mkdir(validation_hydrangea_dir)"
   ]
  },
  {
   "cell_type": "code",
   "execution_count": 8,
   "metadata": {},
   "outputs": [],
   "source": [
    "validation_elephant_dir = os.path.join(validation_dir, 'elephant')\n",
    "os.mkdir(validation_elephant_dir)"
   ]
  },
  {
   "cell_type": "code",
   "execution_count": 9,
   "metadata": {},
   "outputs": [],
   "source": [
    "test_hydrangea_dir = os.path.join(test_dir, 'hydrangea')\n",
    "os.mkdir(test_hydrangea_dir)"
   ]
  },
  {
   "cell_type": "code",
   "execution_count": 10,
   "metadata": {},
   "outputs": [],
   "source": [
    "test_elephant_dir = os.path.join(test_dir, 'elephant')\n",
    "os.mkdir(test_elephant_dir)"
   ]
  },
  {
   "cell_type": "code",
   "execution_count": 11,
   "metadata": {},
   "outputs": [],
   "source": [
    "inames = ['Hydrangeaimage-{}.jpg'.format(i) for i in range(900)]\n",
    "fnames = ['hydrangea.{}.jpg'.format(i) for i in range(900)]\n",
    "\n",
    "for i in range(len(fnames)):\n",
    "    src = os.path.join(original_dataset_dir, 'Hydrangea',inames[i])\n",
    "    dst = os.path.join(train_hydrangea_dir, fnames[i])\n",
    "    shutil.copyfile(src, dst)"
   ]
  },
  {
   "cell_type": "code",
   "execution_count": 12,
   "metadata": {},
   "outputs": [],
   "source": [
    "inames = ['Hydrangeaimage-{}.jpg'.format(i) for i in range(900,1280)]\n",
    "fnames = ['hydrangea.{}.jpg'.format(i) for i in range(900,1280)]\n",
    "\n",
    "for i in range(len(fnames)):\n",
    "    src = os.path.join(original_dataset_dir, 'Hydrangea',inames[i])\n",
    "    dst = os.path.join(validation_hydrangea_dir, fnames[i])\n",
    "    shutil.copyfile(src, dst)"
   ]
  },
  {
   "cell_type": "code",
   "execution_count": 13,
   "metadata": {},
   "outputs": [],
   "source": [
    "inames = ['Hydrangeaimage-{}.jpg'.format(i) for i in range(1280,1660)]\n",
    "fnames = ['hydrangea.{}.jpg'.format(i) for i in range(1280,1660)]\n",
    "\n",
    "for i in range(len(fnames)):\n",
    "    src = os.path.join(original_dataset_dir, 'Hydrangea',inames[i])\n",
    "    dst = os.path.join(test_hydrangea_dir, fnames[i])\n",
    "    shutil.copyfile(src, dst)"
   ]
  },
  {
   "cell_type": "code",
   "execution_count": 14,
   "metadata": {},
   "outputs": [],
   "source": [
    "inames = ['Elephant Earimage-{}.jpg'.format(i) for i in range(900)]\n",
    "fnames = ['elephant.{}.jpg'.format(i) for i in range(900)]\n",
    "\n",
    "for i in range(len(fnames)):\n",
    "    src = os.path.join(original_dataset_dir, 'Elephant Ear',inames[i])\n",
    "    dst = os.path.join(train_elephant_dir, fnames[i])\n",
    "    shutil.copyfile(src, dst)"
   ]
  },
  {
   "cell_type": "code",
   "execution_count": 15,
   "metadata": {},
   "outputs": [],
   "source": [
    "inames = ['Elephant Earimage-{}.jpg'.format(i) for i in range(900,1280)]\n",
    "fnames = ['elephant.{}.jpg'.format(i) for i in range(900,1280)]\n",
    "\n",
    "for i in range(len(fnames)):\n",
    "    src = os.path.join(original_dataset_dir, 'Elephant Ear',inames[i])\n",
    "    dst = os.path.join(validation_elephant_dir, fnames[i])\n",
    "    shutil.copyfile(src, dst)"
   ]
  },
  {
   "cell_type": "code",
   "execution_count": 16,
   "metadata": {},
   "outputs": [],
   "source": [
    "inames = ['Elephant Earimage-{}.jpg'.format(i) for i in range(1280,1660)]\n",
    "fnames = ['elephant.{}.jpg'.format(i) for i in range(1280,1660)]\n",
    "\n",
    "for i in range(len(fnames)):\n",
    "    src = os.path.join(original_dataset_dir, 'Elephant Ear',inames[i])\n",
    "    dst = os.path.join(test_elephant_dir, fnames[i])\n",
    "    shutil.copyfile(src, dst)"
   ]
  },
  {
   "cell_type": "code",
   "execution_count": 17,
   "metadata": {},
   "outputs": [
    {
     "name": "stdout",
     "output_type": "stream",
     "text": [
      "total training hydrangea images: 900\n",
      "total validation hydrangea images: 380\n",
      "total test hydrangea images: 380\n",
      "total training elephant images: 900\n",
      "total validation elephant images: 380\n",
      "total test elephant images: 380\n"
     ]
    }
   ],
   "source": [
    "print('total training hydrangea images:', len(os.listdir(train_hydrangea_dir)))\n",
    "print('total validation hydrangea images:', len(os.listdir(validation_hydrangea_dir)))\n",
    "print('total test hydrangea images:', len(os.listdir(test_hydrangea_dir)))\n",
    "print('total training elephant images:', len(os.listdir(train_elephant_dir)))\n",
    "print('total validation elephant images:', len(os.listdir(validation_elephant_dir)))\n",
    "print('total test elephant images:', len(os.listdir(test_elephant_dir)))"
   ]
  },
  {
   "cell_type": "code",
   "execution_count": 18,
   "metadata": {},
   "outputs": [],
   "source": [
    "import tensorflow as tf\n",
    "from tensorflow.keras import optimizers\n",
    "from tensorflow.keras.preprocessing import image\n",
    "from tensorflow.keras.preprocessing.image import ImageDataGenerator\n",
    "import matplotlib.pyplot as plt"
   ]
  },
  {
   "cell_type": "code",
   "execution_count": 19,
   "metadata": {},
   "outputs": [],
   "source": [
    "model = tf.keras.models.Sequential([\n",
    "        tf.keras.layers.Conv2D(32, (3, 3), activation='relu',input_shape=(150, 150, 3)),\n",
    "        tf.keras.layers.MaxPooling2D((2, 2)),\n",
    "        tf.keras.layers.Conv2D(64, (3, 3), activation='relu'),\n",
    "        tf.keras.layers.MaxPooling2D((2, 2)),\n",
    "        tf.keras.layers.Conv2D(128, (3, 3), activation='relu'),\n",
    "        tf.keras.layers.MaxPooling2D((2, 2)),\n",
    "        tf.keras.layers.Conv2D(128, (3, 3), activation='relu'),\n",
    "        tf.keras.layers.MaxPooling2D((2, 2)),\n",
    "        tf.keras.layers.Flatten(),\n",
    "        tf.keras.layers.Dense(512, activation='relu'),\n",
    "        tf.keras.layers.Dense(1, activation='sigmoid')])\n",
    "\n",
    "model.compile(loss='binary_crossentropy',\n",
    "        optimizer=optimizers.RMSprop(lr=1e-4),\n",
    "        metrics=['acc'])"
   ]
  },
  {
   "cell_type": "code",
   "execution_count": 20,
   "metadata": {},
   "outputs": [
    {
     "name": "stdout",
     "output_type": "stream",
     "text": [
      "Model: \"sequential\"\n",
      "_________________________________________________________________\n",
      "Layer (type)                 Output Shape              Param #   \n",
      "=================================================================\n",
      "conv2d (Conv2D)              (None, 148, 148, 32)      896       \n",
      "_________________________________________________________________\n",
      "max_pooling2d (MaxPooling2D) (None, 74, 74, 32)        0         \n",
      "_________________________________________________________________\n",
      "conv2d_1 (Conv2D)            (None, 72, 72, 64)        18496     \n",
      "_________________________________________________________________\n",
      "max_pooling2d_1 (MaxPooling2 (None, 36, 36, 64)        0         \n",
      "_________________________________________________________________\n",
      "conv2d_2 (Conv2D)            (None, 34, 34, 128)       73856     \n",
      "_________________________________________________________________\n",
      "max_pooling2d_2 (MaxPooling2 (None, 17, 17, 128)       0         \n",
      "_________________________________________________________________\n",
      "conv2d_3 (Conv2D)            (None, 15, 15, 128)       147584    \n",
      "_________________________________________________________________\n",
      "max_pooling2d_3 (MaxPooling2 (None, 7, 7, 128)         0         \n",
      "_________________________________________________________________\n",
      "flatten (Flatten)            (None, 6272)              0         \n",
      "_________________________________________________________________\n",
      "dense (Dense)                (None, 512)               3211776   \n",
      "_________________________________________________________________\n",
      "dense_1 (Dense)              (None, 1)                 513       \n",
      "=================================================================\n",
      "Total params: 3,453,121\n",
      "Trainable params: 3,453,121\n",
      "Non-trainable params: 0\n",
      "_________________________________________________________________\n"
     ]
    }
   ],
   "source": [
    "model.summary()"
   ]
  },
  {
   "cell_type": "code",
   "execution_count": 21,
   "metadata": {},
   "outputs": [],
   "source": [
    "train_datagen = ImageDataGenerator(\n",
    "        rescale=1./255,\n",
    "        rotation_range=40,\n",
    "        width_shift_range=0.2,\n",
    "        height_shift_range=0.2,\n",
    "        shear_range=0.2,\n",
    "        zoom_range=0.2,\n",
    "        horizontal_flip=True,)"
   ]
  },
  {
   "cell_type": "code",
   "execution_count": 22,
   "metadata": {},
   "outputs": [],
   "source": [
    "test_datagen = ImageDataGenerator(rescale=1./255)"
   ]
  },
  {
   "cell_type": "code",
   "execution_count": 23,
   "metadata": {},
   "outputs": [
    {
     "name": "stdout",
     "output_type": "stream",
     "text": [
      "Found 1800 images belonging to 2 classes.\n"
     ]
    }
   ],
   "source": [
    "train_generator = train_datagen.flow_from_directory(\n",
    "        train_dir,\n",
    "        target_size=(150, 150),\n",
    "        batch_size=32,\n",
    "        class_mode='binary')"
   ]
  },
  {
   "cell_type": "code",
   "execution_count": 24,
   "metadata": {},
   "outputs": [
    {
     "name": "stdout",
     "output_type": "stream",
     "text": [
      "Found 760 images belonging to 2 classes.\n"
     ]
    }
   ],
   "source": [
    "validation_generator = test_datagen.flow_from_directory(\n",
    "        validation_dir,\n",
    "        target_size=(150, 150),\n",
    "        batch_size=32,\n",
    "        class_mode='binary')"
   ]
  },
  {
   "cell_type": "code",
   "execution_count": 25,
   "metadata": {},
   "outputs": [
    {
     "name": "stdout",
     "output_type": "stream",
     "text": [
      "WARNING:tensorflow:From <ipython-input-25-6ced384b0730>:6: Model.fit_generator (from tensorflow.python.keras.engine.training) is deprecated and will be removed in a future version.\n",
      "Instructions for updating:\n",
      "Please use Model.fit, which supports generators.\n",
      "WARNING:tensorflow:sample_weight modes were coerced from\n",
      "  ...\n",
      "    to  \n",
      "  ['...']\n",
      "WARNING:tensorflow:sample_weight modes were coerced from\n",
      "  ...\n",
      "    to  \n",
      "  ['...']\n",
      "Train for 18 steps, validate for 18 steps\n",
      "Epoch 1/160\n",
      "18/18 [==============================] - 5s 258ms/step - loss: 0.6988 - acc: 0.5191 - val_loss: 0.6800 - val_acc: 0.4965\n",
      "Epoch 2/160\n",
      "18/18 [==============================] - 4s 234ms/step - loss: 0.6877 - acc: 0.5920 - val_loss: 0.6608 - val_acc: 0.6979\n",
      "Epoch 3/160\n",
      "18/18 [==============================] - 4s 229ms/step - loss: 0.6704 - acc: 0.6215 - val_loss: 0.6301 - val_acc: 0.6094\n",
      "Epoch 4/160\n",
      "18/18 [==============================] - 4s 227ms/step - loss: 0.6481 - acc: 0.6233 - val_loss: 0.6753 - val_acc: 0.5920\n",
      "Epoch 5/160\n",
      "18/18 [==============================] - 4s 216ms/step - loss: 0.6390 - acc: 0.6467 - val_loss: 0.6017 - val_acc: 0.6806\n",
      "Epoch 6/160\n",
      "18/18 [==============================] - 4s 227ms/step - loss: 0.6499 - acc: 0.6163 - val_loss: 0.6292 - val_acc: 0.6493\n",
      "Epoch 7/160\n",
      "18/18 [==============================] - 4s 227ms/step - loss: 0.6085 - acc: 0.6580 - val_loss: 0.6044 - val_acc: 0.6302\n",
      "Epoch 8/160\n",
      "18/18 [==============================] - 4s 232ms/step - loss: 0.6122 - acc: 0.6528 - val_loss: 0.5315 - val_acc: 0.7517\n",
      "Epoch 9/160\n",
      "18/18 [==============================] - 4s 221ms/step - loss: 0.6047 - acc: 0.6431 - val_loss: 0.5322 - val_acc: 0.7326\n",
      "Epoch 10/160\n",
      "18/18 [==============================] - 4s 236ms/step - loss: 0.6074 - acc: 0.6736 - val_loss: 0.5921 - val_acc: 0.7066\n",
      "Epoch 11/160\n",
      "18/18 [==============================] - 4s 228ms/step - loss: 0.6100 - acc: 0.6615 - val_loss: 0.5187 - val_acc: 0.7535\n",
      "Epoch 12/160\n",
      "18/18 [==============================] - 4s 229ms/step - loss: 0.5988 - acc: 0.6580 - val_loss: 0.5325 - val_acc: 0.7431\n",
      "Epoch 13/160\n",
      "18/18 [==============================] - 4s 225ms/step - loss: 0.5852 - acc: 0.6910 - val_loss: 0.5105 - val_acc: 0.7535\n",
      "Epoch 14/160\n",
      "18/18 [==============================] - 4s 220ms/step - loss: 0.5814 - acc: 0.7011 - val_loss: 0.5188 - val_acc: 0.7413\n",
      "Epoch 15/160\n",
      "18/18 [==============================] - 4s 229ms/step - loss: 0.5726 - acc: 0.6806 - val_loss: 0.5144 - val_acc: 0.7483\n",
      "Epoch 16/160\n",
      "18/18 [==============================] - 4s 228ms/step - loss: 0.5502 - acc: 0.7240 - val_loss: 0.5746 - val_acc: 0.7083\n",
      "Epoch 17/160\n",
      "18/18 [==============================] - 4s 225ms/step - loss: 0.5766 - acc: 0.6848 - val_loss: 0.4956 - val_acc: 0.7639\n",
      "Epoch 18/160\n",
      "18/18 [==============================] - 4s 228ms/step - loss: 0.5720 - acc: 0.6944 - val_loss: 0.5423 - val_acc: 0.7170\n",
      "Epoch 19/160\n",
      "18/18 [==============================] - 4s 219ms/step - loss: 0.5660 - acc: 0.7011 - val_loss: 0.5146 - val_acc: 0.7465\n",
      "Epoch 20/160\n",
      "18/18 [==============================] - 4s 234ms/step - loss: 0.5946 - acc: 0.6771 - val_loss: 0.5265 - val_acc: 0.7483\n",
      "Epoch 21/160\n",
      "18/18 [==============================] - 4s 224ms/step - loss: 0.5646 - acc: 0.7047 - val_loss: 0.5244 - val_acc: 0.7569\n",
      "Epoch 22/160\n",
      "18/18 [==============================] - 4s 235ms/step - loss: 0.5644 - acc: 0.7118 - val_loss: 0.4973 - val_acc: 0.7639\n",
      "Epoch 23/160\n",
      "18/18 [==============================] - 4s 229ms/step - loss: 0.5770 - acc: 0.6944 - val_loss: 0.5273 - val_acc: 0.7257\n",
      "Epoch 24/160\n",
      "18/18 [==============================] - 4s 224ms/step - loss: 0.5832 - acc: 0.6957 - val_loss: 0.4952 - val_acc: 0.7622\n",
      "Epoch 25/160\n",
      "18/18 [==============================] - 4s 227ms/step - loss: 0.5700 - acc: 0.7065 - val_loss: 0.5868 - val_acc: 0.7118\n",
      "Epoch 26/160\n",
      "18/18 [==============================] - 4s 230ms/step - loss: 0.5429 - acc: 0.7011 - val_loss: 0.5267 - val_acc: 0.7431\n",
      "Epoch 27/160\n",
      "18/18 [==============================] - 4s 224ms/step - loss: 0.5393 - acc: 0.7222 - val_loss: 0.5058 - val_acc: 0.7483\n",
      "Epoch 28/160\n",
      "18/18 [==============================] - 4s 226ms/step - loss: 0.5584 - acc: 0.7031 - val_loss: 0.6063 - val_acc: 0.7292\n",
      "Epoch 29/160\n",
      "18/18 [==============================] - 4s 218ms/step - loss: 0.5107 - acc: 0.7355 - val_loss: 0.7706 - val_acc: 0.6736\n",
      "Epoch 30/160\n",
      "18/18 [==============================] - 4s 227ms/step - loss: 0.5683 - acc: 0.6962 - val_loss: 0.4798 - val_acc: 0.7639\n",
      "Epoch 31/160\n",
      "18/18 [==============================] - 4s 233ms/step - loss: 0.5521 - acc: 0.7101 - val_loss: 0.5085 - val_acc: 0.7535\n",
      "Epoch 32/160\n",
      "18/18 [==============================] - 4s 233ms/step - loss: 0.5636 - acc: 0.7049 - val_loss: 0.4823 - val_acc: 0.7743\n",
      "Epoch 33/160\n",
      "18/18 [==============================] - 4s 236ms/step - loss: 0.5387 - acc: 0.7274 - val_loss: 0.5261 - val_acc: 0.7500\n",
      "Epoch 34/160\n",
      "18/18 [==============================] - 4s 225ms/step - loss: 0.5324 - acc: 0.7065 - val_loss: 0.5316 - val_acc: 0.7413\n",
      "Epoch 35/160\n",
      "18/18 [==============================] - 4s 233ms/step - loss: 0.5690 - acc: 0.6793 - val_loss: 0.4920 - val_acc: 0.7604\n",
      "Epoch 36/160\n",
      "18/18 [==============================] - 4s 236ms/step - loss: 0.5479 - acc: 0.7153 - val_loss: 0.5869 - val_acc: 0.7378\n",
      "Epoch 37/160\n",
      "18/18 [==============================] - 4s 230ms/step - loss: 0.5366 - acc: 0.7240 - val_loss: 0.4834 - val_acc: 0.7639\n",
      "Epoch 38/160\n",
      "18/18 [==============================] - 4s 242ms/step - loss: 0.5522 - acc: 0.7066 - val_loss: 0.4824 - val_acc: 0.7674\n",
      "Epoch 39/160\n",
      "18/18 [==============================] - 4s 239ms/step - loss: 0.5451 - acc: 0.7014 - val_loss: 0.5600 - val_acc: 0.7465\n",
      "Epoch 40/160\n",
      "18/18 [==============================] - 4s 232ms/step - loss: 0.5613 - acc: 0.6975 - val_loss: 0.4779 - val_acc: 0.7778\n",
      "Epoch 41/160\n",
      "18/18 [==============================] - 4s 233ms/step - loss: 0.5471 - acc: 0.7153 - val_loss: 0.5453 - val_acc: 0.7483\n",
      "Epoch 42/160\n",
      "18/18 [==============================] - 4s 235ms/step - loss: 0.5255 - acc: 0.7228 - val_loss: 0.4692 - val_acc: 0.7726\n",
      "Epoch 43/160\n",
      "18/18 [==============================] - 4s 244ms/step - loss: 0.5326 - acc: 0.7326 - val_loss: 0.4819 - val_acc: 0.7691\n",
      "Epoch 44/160\n",
      "18/18 [==============================] - 4s 239ms/step - loss: 0.5282 - acc: 0.7228 - val_loss: 0.5200 - val_acc: 0.7569\n",
      "Epoch 45/160\n",
      "18/18 [==============================] - 4s 240ms/step - loss: 0.5644 - acc: 0.7083 - val_loss: 0.5229 - val_acc: 0.7535\n",
      "Epoch 46/160\n",
      "18/18 [==============================] - 4s 239ms/step - loss: 0.5082 - acc: 0.7413 - val_loss: 0.4927 - val_acc: 0.7535\n",
      "Epoch 47/160\n",
      "18/18 [==============================] - 4s 224ms/step - loss: 0.5557 - acc: 0.7083 - val_loss: 0.4995 - val_acc: 0.7622\n",
      "Epoch 48/160\n",
      "18/18 [==============================] - 4s 239ms/step - loss: 0.4632 - acc: 0.7760 - val_loss: 0.5223 - val_acc: 0.7639\n",
      "Epoch 49/160\n",
      "18/18 [==============================] - 4s 222ms/step - loss: 0.5275 - acc: 0.7246 - val_loss: 0.4619 - val_acc: 0.7743\n",
      "Epoch 50/160\n",
      "18/18 [==============================] - 4s 222ms/step - loss: 0.5003 - acc: 0.7283 - val_loss: 0.4509 - val_acc: 0.7847\n",
      "Epoch 51/160\n",
      "18/18 [==============================] - 4s 232ms/step - loss: 0.4903 - acc: 0.7431 - val_loss: 0.4962 - val_acc: 0.7691\n",
      "Epoch 52/160\n",
      "18/18 [==============================] - 4s 236ms/step - loss: 0.5019 - acc: 0.7465 - val_loss: 0.4763 - val_acc: 0.7812\n",
      "Epoch 53/160\n",
      "18/18 [==============================] - 4s 223ms/step - loss: 0.5097 - acc: 0.7639 - val_loss: 0.6610 - val_acc: 0.7274\n",
      "Epoch 54/160\n",
      "18/18 [==============================] - 4s 226ms/step - loss: 0.5271 - acc: 0.7413 - val_loss: 0.4708 - val_acc: 0.7639\n",
      "Epoch 55/160\n",
      "18/18 [==============================] - 4s 223ms/step - loss: 0.5056 - acc: 0.7264 - val_loss: 0.4542 - val_acc: 0.7951\n",
      "Epoch 56/160\n",
      "18/18 [==============================] - 4s 232ms/step - loss: 0.4932 - acc: 0.7622 - val_loss: 0.4622 - val_acc: 0.7882\n",
      "Epoch 57/160\n",
      "18/18 [==============================] - 4s 223ms/step - loss: 0.5092 - acc: 0.7264 - val_loss: 0.4973 - val_acc: 0.7743\n",
      "Epoch 58/160\n",
      "18/18 [==============================] - 4s 233ms/step - loss: 0.4798 - acc: 0.7552 - val_loss: 0.5297 - val_acc: 0.7639\n"
     ]
    },
    {
     "name": "stdout",
     "output_type": "stream",
     "text": [
      "Epoch 59/160\n",
      "18/18 [==============================] - 4s 227ms/step - loss: 0.4658 - acc: 0.7743 - val_loss: 0.4485 - val_acc: 0.7882\n",
      "Epoch 60/160\n",
      "18/18 [==============================] - 4s 216ms/step - loss: 0.4897 - acc: 0.7482 - val_loss: 0.5232 - val_acc: 0.7691\n",
      "Epoch 61/160\n",
      "18/18 [==============================] - 4s 230ms/step - loss: 0.4952 - acc: 0.7500 - val_loss: 0.5475 - val_acc: 0.7535\n",
      "Epoch 62/160\n",
      "18/18 [==============================] - 4s 225ms/step - loss: 0.4958 - acc: 0.7409 - val_loss: 0.5513 - val_acc: 0.7552\n",
      "Epoch 63/160\n",
      "18/18 [==============================] - 4s 216ms/step - loss: 0.4998 - acc: 0.7428 - val_loss: 0.4759 - val_acc: 0.7778\n",
      "Epoch 64/160\n",
      "18/18 [==============================] - 4s 229ms/step - loss: 0.5051 - acc: 0.7431 - val_loss: 0.4576 - val_acc: 0.7865\n",
      "Epoch 65/160\n",
      "18/18 [==============================] - 4s 218ms/step - loss: 0.4925 - acc: 0.7536 - val_loss: 0.6399 - val_acc: 0.7188\n",
      "Epoch 66/160\n",
      "18/18 [==============================] - 4s 225ms/step - loss: 0.4927 - acc: 0.7431 - val_loss: 0.4433 - val_acc: 0.7951\n",
      "Epoch 67/160\n",
      "18/18 [==============================] - 4s 229ms/step - loss: 0.4877 - acc: 0.7428 - val_loss: 0.4512 - val_acc: 0.7847\n",
      "Epoch 68/160\n",
      "18/18 [==============================] - 4s 229ms/step - loss: 0.4832 - acc: 0.7482 - val_loss: 0.4424 - val_acc: 0.7812\n",
      "Epoch 69/160\n",
      "18/18 [==============================] - 4s 228ms/step - loss: 0.5083 - acc: 0.7344 - val_loss: 0.4906 - val_acc: 0.7795\n",
      "Epoch 70/160\n",
      "18/18 [==============================] - 4s 241ms/step - loss: 0.4865 - acc: 0.7535 - val_loss: 0.4609 - val_acc: 0.7882\n",
      "Epoch 71/160\n",
      "18/18 [==============================] - 4s 231ms/step - loss: 0.4643 - acc: 0.7663 - val_loss: 0.5145 - val_acc: 0.7708\n",
      "Epoch 72/160\n",
      "18/18 [==============================] - 4s 227ms/step - loss: 0.4811 - acc: 0.7591 - val_loss: 0.4854 - val_acc: 0.7865\n",
      "Epoch 73/160\n",
      "18/18 [==============================] - 4s 239ms/step - loss: 0.4896 - acc: 0.7604 - val_loss: 0.4346 - val_acc: 0.7986\n",
      "Epoch 74/160\n",
      "18/18 [==============================] - 4s 229ms/step - loss: 0.4705 - acc: 0.7656 - val_loss: 0.4307 - val_acc: 0.7986\n",
      "Epoch 75/160\n",
      "18/18 [==============================] - 4s 232ms/step - loss: 0.4818 - acc: 0.7622 - val_loss: 0.5162 - val_acc: 0.7708\n",
      "Epoch 76/160\n",
      "18/18 [==============================] - 4s 233ms/step - loss: 0.4854 - acc: 0.7604 - val_loss: 0.4769 - val_acc: 0.7795\n",
      "Epoch 77/160\n",
      "18/18 [==============================] - 4s 231ms/step - loss: 0.4695 - acc: 0.7882 - val_loss: 0.4540 - val_acc: 0.7934\n",
      "Epoch 78/160\n",
      "18/18 [==============================] - 4s 242ms/step - loss: 0.4697 - acc: 0.7622 - val_loss: 0.4461 - val_acc: 0.7743\n",
      "Epoch 79/160\n",
      "18/18 [==============================] - 4s 236ms/step - loss: 0.4649 - acc: 0.7604 - val_loss: 0.4767 - val_acc: 0.7830\n",
      "Epoch 80/160\n",
      "18/18 [==============================] - 4s 240ms/step - loss: 0.4600 - acc: 0.7778 - val_loss: 0.7130 - val_acc: 0.7118\n",
      "Epoch 81/160\n",
      "18/18 [==============================] - 4s 223ms/step - loss: 0.4624 - acc: 0.7681 - val_loss: 0.4672 - val_acc: 0.7969\n",
      "Epoch 82/160\n",
      "18/18 [==============================] - 4s 239ms/step - loss: 0.4658 - acc: 0.7674 - val_loss: 0.4780 - val_acc: 0.7847\n",
      "Epoch 83/160\n",
      "18/18 [==============================] - 4s 233ms/step - loss: 0.4818 - acc: 0.7465 - val_loss: 0.5909 - val_acc: 0.7500\n",
      "Epoch 84/160\n",
      "18/18 [==============================] - 4s 225ms/step - loss: 0.4549 - acc: 0.7772 - val_loss: 0.4957 - val_acc: 0.8038\n",
      "Epoch 85/160\n",
      "18/18 [==============================] - 4s 231ms/step - loss: 0.4554 - acc: 0.7826 - val_loss: 0.4316 - val_acc: 0.8056\n",
      "Epoch 86/160\n",
      "18/18 [==============================] - 4s 236ms/step - loss: 0.4690 - acc: 0.7639 - val_loss: 0.4815 - val_acc: 0.7778\n",
      "Epoch 87/160\n",
      "18/18 [==============================] - 4s 230ms/step - loss: 0.4748 - acc: 0.7604 - val_loss: 0.5281 - val_acc: 0.7708\n",
      "Epoch 88/160\n",
      "18/18 [==============================] - 4s 240ms/step - loss: 0.4525 - acc: 0.7830 - val_loss: 0.4592 - val_acc: 0.8038\n",
      "Epoch 89/160\n",
      "18/18 [==============================] - 4s 247ms/step - loss: 0.4266 - acc: 0.7865 - val_loss: 0.4790 - val_acc: 0.7882\n",
      "Epoch 90/160\n",
      "18/18 [==============================] - 4s 242ms/step - loss: 0.4673 - acc: 0.7795 - val_loss: 0.6631 - val_acc: 0.7170\n",
      "Epoch 91/160\n",
      "18/18 [==============================] - 4s 241ms/step - loss: 0.4485 - acc: 0.7847 - val_loss: 0.4851 - val_acc: 0.7674\n",
      "Epoch 92/160\n",
      "18/18 [==============================] - 4s 245ms/step - loss: 0.4273 - acc: 0.8056 - val_loss: 0.6472 - val_acc: 0.7465\n",
      "Epoch 93/160\n",
      "18/18 [==============================] - 4s 235ms/step - loss: 0.4396 - acc: 0.7699 - val_loss: 0.5507 - val_acc: 0.7743\n",
      "Epoch 94/160\n",
      "18/18 [==============================] - 4s 238ms/step - loss: 0.4273 - acc: 0.7882 - val_loss: 0.4549 - val_acc: 0.8021\n",
      "Epoch 95/160\n",
      "18/18 [==============================] - 4s 233ms/step - loss: 0.4573 - acc: 0.7743 - val_loss: 0.6437 - val_acc: 0.7309\n",
      "Epoch 96/160\n",
      "18/18 [==============================] - 4s 229ms/step - loss: 0.4219 - acc: 0.7899 - val_loss: 0.8299 - val_acc: 0.7031\n",
      "Epoch 97/160\n",
      "18/18 [==============================] - 4s 237ms/step - loss: 0.4490 - acc: 0.7645 - val_loss: 0.4904 - val_acc: 0.7934\n",
      "Epoch 98/160\n",
      "18/18 [==============================] - 4s 243ms/step - loss: 0.4634 - acc: 0.7535 - val_loss: 0.5290 - val_acc: 0.7674\n",
      "Epoch 99/160\n",
      "18/18 [==============================] - 4s 241ms/step - loss: 0.4662 - acc: 0.7795 - val_loss: 0.6287 - val_acc: 0.7396\n",
      "Epoch 100/160\n",
      "18/18 [==============================] - 4s 246ms/step - loss: 0.4904 - acc: 0.7326 - val_loss: 0.5156 - val_acc: 0.7674\n",
      "Epoch 101/160\n",
      "18/18 [==============================] - 4s 240ms/step - loss: 0.4910 - acc: 0.7413 - val_loss: 0.6150 - val_acc: 0.7396\n",
      "Epoch 102/160\n",
      "18/18 [==============================] - 4s 225ms/step - loss: 0.4401 - acc: 0.7934 - val_loss: 0.4797 - val_acc: 0.7812\n",
      "Epoch 103/160\n",
      "18/18 [==============================] - 4s 225ms/step - loss: 0.4269 - acc: 0.7953 - val_loss: 0.5567 - val_acc: 0.7656\n",
      "Epoch 104/160\n",
      "18/18 [==============================] - 4s 227ms/step - loss: 0.4438 - acc: 0.7844 - val_loss: 0.4340 - val_acc: 0.7969\n",
      "Epoch 105/160\n",
      "18/18 [==============================] - 4s 238ms/step - loss: 0.3951 - acc: 0.8108 - val_loss: 0.5262 - val_acc: 0.7847\n",
      "Epoch 106/160\n",
      "18/18 [==============================] - 4s 230ms/step - loss: 0.4126 - acc: 0.8025 - val_loss: 0.5116 - val_acc: 0.7969\n",
      "Epoch 107/160\n",
      "18/18 [==============================] - 4s 236ms/step - loss: 0.4344 - acc: 0.7847 - val_loss: 0.7065 - val_acc: 0.7361\n",
      "Epoch 108/160\n",
      "18/18 [==============================] - 4s 230ms/step - loss: 0.4335 - acc: 0.8003 - val_loss: 0.4344 - val_acc: 0.8056\n",
      "Epoch 109/160\n",
      "18/18 [==============================] - 5s 254ms/step - loss: 0.4235 - acc: 0.8038 - val_loss: 0.4639 - val_acc: 0.8003\n",
      "Epoch 110/160\n",
      "18/18 [==============================] - 4s 242ms/step - loss: 0.4199 - acc: 0.7882 - val_loss: 0.5344 - val_acc: 0.7778\n",
      "Epoch 111/160\n",
      "18/18 [==============================] - 4s 224ms/step - loss: 0.4636 - acc: 0.7536 - val_loss: 0.6431 - val_acc: 0.7361\n",
      "Epoch 112/160\n",
      "18/18 [==============================] - 4s 229ms/step - loss: 0.4400 - acc: 0.7917 - val_loss: 0.4245 - val_acc: 0.8108\n",
      "Epoch 113/160\n",
      "18/18 [==============================] - 4s 246ms/step - loss: 0.4251 - acc: 0.8038 - val_loss: 0.4303 - val_acc: 0.8090\n",
      "Epoch 114/160\n",
      "18/18 [==============================] - 4s 235ms/step - loss: 0.4173 - acc: 0.8003 - val_loss: 0.5199 - val_acc: 0.7778\n",
      "Epoch 115/160\n",
      "18/18 [==============================] - 4s 232ms/step - loss: 0.4229 - acc: 0.8043 - val_loss: 0.6052 - val_acc: 0.7552\n",
      "Epoch 116/160\n",
      "18/18 [==============================] - 4s 236ms/step - loss: 0.4165 - acc: 0.7969 - val_loss: 0.5094 - val_acc: 0.7917\n",
      "Epoch 117/160\n",
      "18/18 [==============================] - 4s 218ms/step - loss: 0.4285 - acc: 0.7935 - val_loss: 0.4490 - val_acc: 0.8177\n",
      "Epoch 118/160\n",
      "18/18 [==============================] - 4s 234ms/step - loss: 0.4019 - acc: 0.8247 - val_loss: 0.4816 - val_acc: 0.7969\n",
      "Epoch 119/160\n",
      "18/18 [==============================] - 4s 228ms/step - loss: 0.4130 - acc: 0.8090 - val_loss: 0.4590 - val_acc: 0.7934\n"
     ]
    },
    {
     "name": "stdout",
     "output_type": "stream",
     "text": [
      "Epoch 120/160\n",
      "18/18 [==============================] - 4s 237ms/step - loss: 0.4268 - acc: 0.7882 - val_loss: 0.4791 - val_acc: 0.7951\n",
      "Epoch 121/160\n",
      "18/18 [==============================] - 4s 231ms/step - loss: 0.4019 - acc: 0.8038 - val_loss: 0.4777 - val_acc: 0.7969\n",
      "Epoch 122/160\n",
      "18/18 [==============================] - 4s 230ms/step - loss: 0.4623 - acc: 0.7663 - val_loss: 0.5774 - val_acc: 0.7604\n",
      "Epoch 123/160\n",
      "18/18 [==============================] - 4s 226ms/step - loss: 0.4151 - acc: 0.7969 - val_loss: 0.5270 - val_acc: 0.7674\n",
      "Epoch 124/160\n",
      "18/18 [==============================] - 4s 230ms/step - loss: 0.4068 - acc: 0.8021 - val_loss: 0.4579 - val_acc: 0.8073\n",
      "Epoch 125/160\n",
      "18/18 [==============================] - 4s 235ms/step - loss: 0.4151 - acc: 0.8090 - val_loss: 0.5369 - val_acc: 0.7812\n",
      "Epoch 126/160\n",
      "18/18 [==============================] - 4s 223ms/step - loss: 0.4282 - acc: 0.7971 - val_loss: 0.5617 - val_acc: 0.7708\n",
      "Epoch 127/160\n",
      "18/18 [==============================] - 4s 218ms/step - loss: 0.4442 - acc: 0.7862 - val_loss: 0.4766 - val_acc: 0.7865\n",
      "Epoch 128/160\n",
      "18/18 [==============================] - 4s 223ms/step - loss: 0.3827 - acc: 0.8333 - val_loss: 0.4966 - val_acc: 0.7847\n",
      "Epoch 129/160\n",
      "18/18 [==============================] - 4s 234ms/step - loss: 0.4094 - acc: 0.8073 - val_loss: 0.4284 - val_acc: 0.8160\n",
      "Epoch 130/160\n",
      "18/18 [==============================] - 4s 233ms/step - loss: 0.4002 - acc: 0.8229 - val_loss: 0.4177 - val_acc: 0.8108\n",
      "Epoch 131/160\n",
      "18/18 [==============================] - 4s 225ms/step - loss: 0.4061 - acc: 0.8073 - val_loss: 0.7518 - val_acc: 0.7274\n",
      "Epoch 132/160\n",
      "18/18 [==============================] - 4s 224ms/step - loss: 0.4397 - acc: 0.7830 - val_loss: 0.4456 - val_acc: 0.8021\n",
      "Epoch 133/160\n",
      "18/18 [==============================] - 4s 226ms/step - loss: 0.3928 - acc: 0.8229 - val_loss: 0.4112 - val_acc: 0.8108\n",
      "Epoch 134/160\n",
      "18/18 [==============================] - 4s 224ms/step - loss: 0.4289 - acc: 0.7754 - val_loss: 0.4281 - val_acc: 0.8142\n",
      "Epoch 135/160\n",
      "18/18 [==============================] - 4s 231ms/step - loss: 0.3910 - acc: 0.8108 - val_loss: 0.4053 - val_acc: 0.8090\n",
      "Epoch 136/160\n",
      "18/18 [==============================] - 4s 225ms/step - loss: 0.4331 - acc: 0.8056 - val_loss: 0.4855 - val_acc: 0.7899\n",
      "Epoch 137/160\n",
      "18/18 [==============================] - 4s 223ms/step - loss: 0.4458 - acc: 0.7760 - val_loss: 0.7663 - val_acc: 0.7188\n",
      "Epoch 138/160\n",
      "18/18 [==============================] - 4s 228ms/step - loss: 0.4203 - acc: 0.7986 - val_loss: 0.5776 - val_acc: 0.7674\n",
      "Epoch 139/160\n",
      "18/18 [==============================] - 4s 232ms/step - loss: 0.3810 - acc: 0.8056 - val_loss: 0.5765 - val_acc: 0.7743\n",
      "Epoch 140/160\n",
      "18/18 [==============================] - 4s 225ms/step - loss: 0.4195 - acc: 0.7899 - val_loss: 0.6364 - val_acc: 0.7535\n",
      "Epoch 141/160\n",
      "18/18 [==============================] - 4s 227ms/step - loss: 0.4009 - acc: 0.7986 - val_loss: 0.5140 - val_acc: 0.7899\n",
      "Epoch 142/160\n",
      "18/18 [==============================] - 4s 220ms/step - loss: 0.3951 - acc: 0.8351 - val_loss: 0.4178 - val_acc: 0.8247\n",
      "Epoch 143/160\n",
      "18/18 [==============================] - 4s 233ms/step - loss: 0.4063 - acc: 0.8229 - val_loss: 0.4519 - val_acc: 0.8108\n",
      "Epoch 144/160\n",
      "18/18 [==============================] - 4s 220ms/step - loss: 0.3908 - acc: 0.8062 - val_loss: 0.4473 - val_acc: 0.8090\n",
      "Epoch 145/160\n",
      "18/18 [==============================] - 4s 230ms/step - loss: 0.3774 - acc: 0.8229 - val_loss: 0.4710 - val_acc: 0.8142\n",
      "Epoch 146/160\n",
      "18/18 [==============================] - 4s 227ms/step - loss: 0.4146 - acc: 0.8212 - val_loss: 0.4182 - val_acc: 0.8142\n",
      "Epoch 147/160\n",
      "18/18 [==============================] - 4s 235ms/step - loss: 0.4137 - acc: 0.8160 - val_loss: 0.6651 - val_acc: 0.7517\n",
      "Epoch 148/160\n",
      "18/18 [==============================] - 4s 219ms/step - loss: 0.3925 - acc: 0.8243 - val_loss: 0.4835 - val_acc: 0.8073\n",
      "Epoch 149/160\n",
      "18/18 [==============================] - 4s 227ms/step - loss: 0.4076 - acc: 0.8056 - val_loss: 0.4862 - val_acc: 0.8003\n",
      "Epoch 150/160\n",
      "18/18 [==============================] - 4s 231ms/step - loss: 0.4092 - acc: 0.8160 - val_loss: 0.5509 - val_acc: 0.7743\n",
      "Epoch 151/160\n",
      "18/18 [==============================] - 4s 232ms/step - loss: 0.4164 - acc: 0.8056 - val_loss: 0.5376 - val_acc: 0.7726\n",
      "Epoch 152/160\n",
      "18/18 [==============================] - 4s 228ms/step - loss: 0.4079 - acc: 0.8125 - val_loss: 0.5216 - val_acc: 0.7969\n",
      "Epoch 153/160\n",
      "18/18 [==============================] - 4s 228ms/step - loss: 0.4016 - acc: 0.8194 - val_loss: 0.6165 - val_acc: 0.7604\n",
      "Epoch 154/160\n",
      "18/18 [==============================] - 4s 233ms/step - loss: 0.3779 - acc: 0.8229 - val_loss: 0.4949 - val_acc: 0.8142\n",
      "Epoch 155/160\n",
      "18/18 [==============================] - 4s 223ms/step - loss: 0.3748 - acc: 0.8134 - val_loss: 0.6055 - val_acc: 0.7760\n",
      "Epoch 156/160\n",
      "18/18 [==============================] - 4s 223ms/step - loss: 0.3831 - acc: 0.8116 - val_loss: 0.5981 - val_acc: 0.7760\n",
      "Epoch 157/160\n",
      "18/18 [==============================] - 4s 238ms/step - loss: 0.3859 - acc: 0.8299 - val_loss: 0.4570 - val_acc: 0.8056\n",
      "Epoch 158/160\n",
      "18/18 [==============================] - 4s 233ms/step - loss: 0.4194 - acc: 0.7953 - val_loss: 0.4626 - val_acc: 0.8056\n",
      "Epoch 159/160\n",
      "18/18 [==============================] - 4s 225ms/step - loss: 0.3839 - acc: 0.8281 - val_loss: 0.5184 - val_acc: 0.8090\n",
      "Epoch 160/160\n",
      "18/18 [==============================] - 4s 223ms/step - loss: 0.3772 - acc: 0.8152 - val_loss: 0.4348 - val_acc: 0.8177\n"
     ]
    }
   ],
   "source": [
    "history = model.fit_generator(\n",
    "        train_generator,\n",
    "        steps_per_epoch=18,\n",
    "        epochs=160,\n",
    "        validation_data=validation_generator,\n",
    "        validation_steps=18)"
   ]
  },
  {
   "cell_type": "code",
   "execution_count": 29,
   "metadata": {
    "scrolled": true
   },
   "outputs": [
    {
     "data": {
      "image/png": "[encoded data removed]",
      "text/plain": [
       "<matplotlib.figure.Figure at 0x7fdfb4438dd8>"
      ]
     },
     "metadata": {
      "needs_background": "light"
     },
     "output_type": "display_data"
    },
    {
     "data": {
      "image/png": "[encoded data removed]",
      "text/plain": [
       "<matplotlib.figure.Figure at 0x7fdfb44026d8>"
      ]
     },
     "metadata": {
      "needs_background": "light"
     },
     "output_type": "display_data"
    }
   ],
   "source": [
    "acc = history.history['acc']\n",
    "val_acc = history.history['val_acc']\n",
    "loss = history.history['loss']\n",
    "val_loss = history.history['val_loss']\n",
    "\n",
    "epochs = range(1, len(acc) + 1)\n",
    "\n",
    "plt.plot(epochs, acc, 'bo', label='Training acc')\n",
    "plt.plot(epochs, val_acc, 'b', label='Validation acc')\n",
    "plt.title('Training and validation accuracy')\n",
    "plt.legend()\n",
    "\n",
    "plt.figure()\n",
    "\n",
    "plt.plot(epochs, loss, 'bo', label='Training loss')\n",
    "plt.plot(epochs, val_loss, 'b', label='Validation loss')\n",
    "plt.title('Training and validation loss')\n",
    "plt.legend()\n",
    "\n",
    "plt.show()"
   ]
  },
  {
   "cell_type": "code",
   "execution_count": 30,
   "metadata": {},
   "outputs": [
    {
     "data": {
      "image/png": "[encoded data removed]",
      "text/plain": [
       "<matplotlib.figure.Figure at 0x7fdfb43ab080>"
      ]
     },
     "metadata": {
      "needs_background": "light"
     },
     "output_type": "display_data"
    },
    {
     "data": {
      "image/png": "[encoded data removed]",
      "text/plain": [
       "<matplotlib.figure.Figure at 0x7fdfb48dd860>"
      ]
     },
     "metadata": {
      "needs_background": "light"
     },
     "output_type": "display_data"
    }
   ],
   "source": [
    "def smooth_curve(points, factor=0.8):\n",
    "    smoothed_points = []\n",
    "    for point in points:\n",
    "        if smoothed_points:\n",
    "            previous = smoothed_points[-1]\n",
    "            smoothed_points.append(previous * factor + point * (1 - factor))\n",
    "        else:\n",
    "            smoothed_points.append(point)\n",
    "    return smoothed_points\n",
    "\n",
    "plt.plot(epochs,\n",
    "        smooth_curve(acc), 'bo', label='Smoothed training acc')\n",
    "plt.plot(epochs,\n",
    "        smooth_curve(val_acc), 'b', label='Smoothed validation acc')\n",
    "plt.title('Training and validation accuracy')\n",
    "plt.legend()\n",
    "\n",
    "plt.figure()\n",
    "\n",
    "plt.plot(epochs,\n",
    "        smooth_curve(loss), 'bo', label='Smoothed training loss')\n",
    "plt.plot(epochs,\n",
    "        smooth_curve(val_loss), 'b', label='Smoothed validation loss')\n",
    "plt.title('Training and validation loss')\n",
    "plt.legend()\n",
    "\n",
    "plt.show()"
   ]
  },
  {
   "cell_type": "code",
   "execution_count": 28,
   "metadata": {},
   "outputs": [
    {
     "name": "stdout",
     "output_type": "stream",
     "text": [
      "Found 760 images belonging to 2 classes.\n",
      "WARNING:tensorflow:From <ipython-input-28-59f10551f2c4>:6: Model.evaluate_generator (from tensorflow.python.keras.engine.training) is deprecated and will be removed in a future version.\n",
      "Instructions for updating:\n",
      "Please use Model.evaluate, which supports generators.\n",
      "WARNING:tensorflow:sample_weight modes were coerced from\n",
      "  ...\n",
      "    to  \n",
      "  ['...']\n",
      "WARNING:tensorflow:Your input ran out of data; interrupting training. Make sure that your dataset or generator can generate at least `steps_per_epoch * epochs` batches (in this case, 50 batches). You may need to use the repeat() function when building your dataset.\n",
      "test acc: 0.8144737\n"
     ]
    }
   ],
   "source": [
    "test_generator = test_datagen.flow_from_directory(\n",
    "        test_dir,\n",
    "        target_size=(150, 150),\n",
    "        batch_size=18,\n",
    "        class_mode='binary')\n",
    "test_loss, test_acc = model.evaluate_generator(test_generator, steps=50)\n",
    "print('test acc:', test_acc)"
   ]
  },
  {
   "cell_type": "code",
   "execution_count": null,
   "metadata": {},
   "outputs": [],
   "source": [
    "model.save('cash_crop_4C_2D_4.h5')"
   ]
  },
  {
   "cell_type": "code",
   "execution_count": null,
   "metadata": {},
   "outputs": [],
   "source": []
  }
 ],
 "metadata": {
  "kernelspec": {
   "display_name": "Python 3",
   "language": "python",
   "name": "python3"
  },
  "language_info": {
   "codemirror_mode": {
    "name": "ipython",
    "version": 3
   },
   "file_extension": ".py",
   "mimetype": "text/x-python",
   "name": "python",
   "nbconvert_exporter": "python",
   "pygments_lexer": "ipython3",
   "version": "3.6.9"
  }
 },
 "nbformat": 4,
 "nbformat_minor": 2
}
