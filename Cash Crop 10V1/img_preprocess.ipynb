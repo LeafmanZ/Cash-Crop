{
 "cells": [
  {
   "cell_type": "code",
   "execution_count": null,
   "metadata": {},
   "outputs": [],
   "source": [
    "import os, shutil\n",
    "\n",
    "base_dir = '/home/leafmonk/Documents/Cash Crop 10V1'\n",
    "csv_dir = '/home/leafmonk/Documents/Cash Crop 10V1/img_csv'\n",
    "org_img_dir = '/home/leafmonk/Documents/Cash Crop 10V1/img'\n",
    "\n",
    "\n",
    "\n",
    "if os.path.isdir(data_dir):\n",
    "    shutil. rmtree(data_dir)\n",
    "os.mkdir(data_dir)\n",
    "\n",
    "train_dir = os.path.join(data_dir, 'train')\n",
    "os.mkdir(train_dir)\n",
    "\n",
    "validation_dir = os.path.join(data_dir, 'validation')\n",
    "os.mkdir(validation_dir)\n",
    "\n",
    "test_dir = os.path.join(data_dir, 'test')\n",
    "os.mkdir(test_dir)"
   ]
  },
  {
   "cell_type": "code",
   "execution_count": null,
   "metadata": {},
   "outputs": [],
   "source": [
    "list_csv = os.listdir(csv_dir)\n",
    "\n",
    "names = []\n",
    "for csv in list_csv:\n",
    "    names.append(csv[:-4])"
   ]
  },
  {
   "cell_type": "code",
   "execution_count": null,
   "metadata": {},
   "outputs": [],
   "source": [
    "train_dir_list = []\n",
    "validation_dir_list = []\n",
    "test_dir_list = []\n",
    "\n",
    "for name in names:\n",
    "    train = os.path.join(train_dir, name)\n",
    "    os.mkdir(train)\n",
    "    train_dir_list.append(train)\n",
    "    \n",
    "    validation = os.path.join(validation_dir, name)\n",
    "    os.mkdir(validation)\n",
    "    validation_dir_list.append(validation)\n",
    "    \n",
    "    test = os.path.join(test_dir, name)\n",
    "    os.mkdir(test)\n",
    "    test_dir_list.append(test)\n",
    "    \n",
    "data_dir = dict(zip(names, list(zip(train_dir_list, validation_dir_list, test_dir_list))))"
   ]
  },
  {
   "cell_type": "code",
   "execution_count": null,
   "metadata": {},
   "outputs": [],
   "source": [
    "for name in data_dir.keys():\n",
    "    print('Directories for:', name)\n",
    "    \n",
    "    for i in range(len(data_dir[name])):\n",
    "        print(data_dir[name][i])\n",
    "        \n",
    "    print()"
   ]
  },
  {
   "cell_type": "code",
   "execution_count": null,
   "metadata": {},
   "outputs": [],
   "source": [
    "def data_seperator(name, train_dir, validation_dir, test_dir, train_size, val_size):\n",
    "    # Find file size\n",
    "    img_dir = os.path.join(org_img_dir, name)\n",
    "    path, dirs, files = next(os.walk(img_dir))\n",
    "    file_count = len(files)\n",
    "    \n",
    "    # Move image data to respective training folder\n",
    "    inames = ['{}-{}.jpg'.format(name, i) for i in range(int(train_size * file_count))]\n",
    "    fnames = ['{}.{}.jpg'.format(name, i) for i in range(int(train_size * file_count))]\n",
    "    print('Moving', name, 'train images to:', train_dir )\n",
    "    for i in range(len(fnames)):\n",
    "        src = os.path.join(org_img_dir, name, inames[i])\n",
    "        dst = os.path.join(train_dir, fnames[i])\n",
    "        try:\n",
    "            shutil.copyfile(src, dst)\n",
    "        except:\n",
    "            pass\n",
    "    \n",
    "    # Move image data to respective validation folder\n",
    "    val_idx = train_size + val_size\n",
    "    inames = ['{}-{}.jpg'.format(name, i) for i in range(int(train_size * file_count), int(val_idx * file_count))]\n",
    "    fnames = ['{}.{}.jpg'.format(name, i) for i in range(int(train_size * file_count), int(val_idx * file_count))]\n",
    "    print('Moving', name, 'validation images to:', validation_dir )\n",
    "    for i in range(len(fnames)):\n",
    "        src = os.path.join(org_img_dir, name, inames[i])\n",
    "        dst = os.path.join(validation_dir, fnames[i])\n",
    "        try:\n",
    "            shutil.copyfile(src, dst)\n",
    "        except:\n",
    "            pass\n",
    "    \n",
    "    # Move image data to respective testing folder\n",
    "    inames = ['{}-{}.jpg'.format(name, i) for i in range(int(val_idx * file_count), file_count)]\n",
    "    fnames = ['{}.{}.jpg'.format(name, i) for i in range(int(val_idx * file_count), file_count)]\n",
    "    print('Moving', name, 'test images to:', test_dir )\n",
    "    for i in range(len(fnames)):\n",
    "        src = os.path.join(org_img_dir, name, inames[i])\n",
    "        dst = os.path.join(test_dir, fnames[i])\n",
    "        try:\n",
    "            shutil.copyfile(src, dst)\n",
    "        except:\n",
    "            pass\n",
    "    \n",
    "    print()"
   ]
  },
  {
   "cell_type": "code",
   "execution_count": null,
   "metadata": {},
   "outputs": [],
   "source": [
    "for name in data_dir.keys():\n",
    "    print('Moving images for:', name)\n",
    "    data_seperator(name, data_dir[name][0], data_dir[name][1], data_dir[name][2], .8, .1)\n",
    "    print()"
   ]
  },
  {
   "cell_type": "code",
   "execution_count": null,
   "metadata": {},
   "outputs": [],
   "source": [
    "for name in data_dir.keys():\n",
    "    img_dir = os.path.join(org_img_dir, name)\n",
    "    path, dirs, files = next(os.walk(img_dir))\n",
    "    file_count = len(files)\n",
    "    \n",
    "    print('Total training', name, 'images:', len(os.listdir(data_dir[name][0])))\n",
    "    print('Total validation', name, 'images:', len(os.listdir(data_dir[name][1])))\n",
    "    print('Total test', name ,'images:', len(os.listdir(data_dir[name][2])))\n",
    "    print('Total images', name, 'images:', file_count)\n",
    "    print()"
   ]
  },
  {
   "cell_type": "code",
   "execution_count": null,
   "metadata": {},
   "outputs": [],
   "source": [
    "import json\n",
    "\n",
    "with open('data_dir_dict.json', 'w') as f:\n",
    "    json.dump(data_dir, f)"
   ]
  },
  {
   "cell_type": "code",
   "execution_count": null,
   "metadata": {},
   "outputs": [],
   "source": [
    "# Note:\n",
    "# To open the json as dictionary\n",
    "with open('data_dir_dict.json') as json_file: \n",
    "    n_data_dir = json.load(json_file) \n",
    "\n",
    "print(type(n_data_dir))\n",
    "print(n_data_dir)"
   ]
  },
  {
   "cell_type": "code",
   "execution_count": null,
   "metadata": {},
   "outputs": [],
   "source": [
    "print(sorted(list(n_data_dir.keys()))[0])"
   ]
  },
  {
   "cell_type": "code",
   "execution_count": null,
   "metadata": {},
   "outputs": [],
   "source": []
  }
 ],
 "metadata": {
  "kernelspec": {
   "display_name": "Python 3",
   "language": "python",
   "name": "python3"
  },
  "language_info": {
   "codemirror_mode": {
    "name": "ipython",
    "version": 3
   },
   "file_extension": ".py",
   "mimetype": "text/x-python",
   "name": "python",
   "nbconvert_exporter": "python",
   "pygments_lexer": "ipython3",
   "version": "3.6.9"
  }
 },
 "nbformat": 4,
 "nbformat_minor": 4
}
